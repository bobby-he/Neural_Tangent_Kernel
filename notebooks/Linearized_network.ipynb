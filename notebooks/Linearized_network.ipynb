{
  "nbformat": 4,
  "nbformat_minor": 0,
  "metadata": {
    "colab": {
      "name": "Linearized_network.ipynb",
      "version": "0.3.2",
      "provenance": [],
      "include_colab_link": true
    },
    "kernelspec": {
      "name": "python3",
      "display_name": "Python 3"
    }
  },
  "cells": [
    {
      "cell_type": "markdown",
      "metadata": {
        "id": "view-in-github",
        "colab_type": "text"
      },
      "source": [
        "<a href=\"https://colab.research.google.com/github/bobby-he/Neural_Tangent_Kernel/blob/master/notebooks/Linearized_network.ipynb\" target=\"_parent\"><img src=\"https://colab.research.google.com/assets/colab-badge.svg\" alt=\"Open In Colab\"/></a>"
      ]
    },
    {
      "metadata": {
        "id": "GzgbDzck5Pnz",
        "colab_type": "text"
      },
      "cell_type": "markdown",
      "source": [
        "# Apply the results from the linearized network paper to the experiments in Neural Tangent Kernel paper\n",
        "\n",
        "## Same setup as section 6.2\n",
        "\n",
        "Start from the simple example of the 4 elements, and apply the formulas from the linearized network paper to compare with the analytical dynammics of the weights and the  network function. \n"
      ]
    },
    {
      "metadata": {
        "id": "v_wRQUNP5vdH",
        "colab_type": "code",
        "colab": {}
      },
      "cell_type": "code",
      "source": [
        ""
      ],
      "execution_count": 0,
      "outputs": []
    }
  ]
}