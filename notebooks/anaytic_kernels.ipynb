{
  "nbformat": 4,
  "nbformat_minor": 0,
  "metadata": {
    "colab": {
      "name": "anaytic_kernels.ipynb",
      "version": "0.3.2",
      "provenance": [],
      "collapsed_sections": [],
      "include_colab_link": true
    },
    "kernelspec": {
      "name": "python3",
      "display_name": "Python 3"
    },
    "accelerator": "GPU"
  },
  "cells": [
    {
      "cell_type": "markdown",
      "metadata": {
        "id": "view-in-github",
        "colab_type": "text"
      },
      "source": [
        "<a href=\"https://colab.research.google.com/github/bobby-he/Neural_Tangent_Kernel/blob/master/notebooks/anaytic_kernels.ipynb\" target=\"_parent\"><img src=\"https://colab.research.google.com/assets/colab-badge.svg\" alt=\"Open In Colab\"/></a>"
      ]
    },
    {
      "metadata": {
        "id": "l2O1ZGoXOydI",
        "colab_type": "code",
        "outputId": "00d45361-0d5a-4f1a-aa02-458dac35e64f",
        "colab": {
          "base_uri": "https://localhost:8080/",
          "height": 136
        }
      },
      "cell_type": "code",
      "source": [
        "!git clone https://github.com/bobby-he/Neural_Tangent_Kernel.git"
      ],
      "execution_count": 4,
      "outputs": [
        {
          "output_type": "stream",
          "text": [
            "Cloning into 'Neural_Tangent_Kernel'...\n",
            "remote: Enumerating objects: 114, done.\u001b[K\n",
            "remote: Counting objects: 100% (114/114), done.\u001b[K\n",
            "remote: Compressing objects: 100% (112/112), done.\u001b[K\n",
            "remote: Total 685 (delta 73), reused 5 (delta 2), pack-reused 571\u001b[K\n",
            "Receiving objects: 100% (685/685), 31.54 MiB | 25.45 MiB/s, done.\n",
            "Resolving deltas: 100% (413/413), done.\n"
          ],
          "name": "stdout"
        }
      ]
    },
    {
      "metadata": {
        "id": "cpD2s2gLAD_i",
        "colab_type": "code",
        "colab": {}
      },
      "cell_type": "code",
      "source": [
        "from google.colab import files"
      ],
      "execution_count": 0,
      "outputs": []
    },
    {
      "metadata": {
        "id": "ck_SYDwAb_yS",
        "colab_type": "code",
        "colab": {}
      },
      "cell_type": "code",
      "source": [
        "import numpy as np\n",
        "import matplotlib.pyplot as plt\n",
        "\n",
        "import torch\n",
        "import torch.nn as nn\n",
        "import torch.nn.functional as F\n",
        "import torch.optim as optim"
      ],
      "execution_count": 0,
      "outputs": []
    },
    {
      "metadata": {
        "id": "3Xg_7Evyd7z5",
        "colab_type": "code",
        "colab": {}
      },
      "cell_type": "code",
      "source": [
        "import seaborn as sns\n",
        "sns.set()\n",
        "from collections import OrderedDict\n",
        "import sys\n",
        "\n",
        "from Neural_Tangent_Kernel.src.NTK_net import *\n",
        "use_cuda = True if torch.cuda.is_available() else False\n"
      ],
      "execution_count": 0,
      "outputs": []
    },
    {
      "metadata": {
        "id": "-FT7LTTtVv-0",
        "colab_type": "code",
        "colab": {}
      },
      "cell_type": "code",
      "source": [
        ""
      ],
      "execution_count": 0,
      "outputs": []
    },
    {
      "metadata": {
        "id": "Bd7gl5IpVwYa",
        "colab_type": "code",
        "colab": {}
      },
      "cell_type": "code",
      "source": [
        "class NNGP(object):\n",
        "\n",
        "    def __init__(self, deepArcCosine,X,Y,X_star):\n",
        "      self.deepArcCosine = deepArcCosine\n",
        "      self.X = X\n",
        "      self.Y = Y\n",
        "      self.X_star = X_star\n",
        "      self.K = deepArcCosine.K(X,X).cpu().numpy()\n",
        "      self.K_star = deepArcCosine.K(X_star,X).cpu().numpy()\n",
        "      self.K_ss = deepArcCosine.K(X_star,X_star).cpu().numpy()\n",
        "      self.L =  np.linalg.cholesky(self.K+0.00005 * np.eye(X.shape[0]))\n",
        "      self.n_test = X_star.shape[0]\n",
        "    \n",
        "    \n",
        "    def prior_std(self):\n",
        "      return np.sqrt(np.diag(self.K_ss))\n",
        "      \n",
        "    def posterior_mean(self):\n",
        "      Lk = np.linalg.solve(self.L, self.K_star.T) \n",
        "      mean_star = np.dot(Lk.T, np.linalg.solve(self.L, self.Y.cpu().numpy())).reshape((self.n_test,))\n",
        "      return mean_star\n",
        "      \n",
        "    def posterior_std(self):\n",
        "      Lk = np.linalg.solve(self.L,self.K_star.T) \n",
        "      s2 = np.diag(self.K_ss) - np.sum(Lk**2, axis=0)\n",
        "      stdv = np.sqrt(s2)\n",
        "      return(stdv)\n",
        "      \n",
        "    def get_K(self):\n",
        "      return self.K\n",
        "    \n",
        "    def get_Kstar(self):\n",
        "      return self.K_star\n",
        "    \n",
        "    def get_Kss(self):\n",
        "      return self.K_ss"
      ],
      "execution_count": 0,
      "outputs": []
    },
    {
      "metadata": {
        "id": "HWCOWtaSV0sv",
        "colab_type": "code",
        "colab": {}
      },
      "cell_type": "code",
      "source": [
        "class NTK_analytic_pred(object):\n",
        "\n",
        "    def __init__(self, deepArcCosine,X,Y,X_star,t,eta,K,K_star,K_ss):\n",
        "      self.deepArcCosine = deepArcCosine\n",
        "      self.t=t\n",
        "      self.eta=eta\n",
        "      self.X = X\n",
        "      self.Y = Y\n",
        "      self.X_star = X_star\n",
        "      self.K = K\n",
        "      self.K_star = K_star\n",
        "      self.K_ss = K_ss\n",
        "      self.n_test = X_star.shape[0]\n",
        "      self.NTK_star = deepArcCosine.NTK(X_star,X).cpu().numpy()\n",
        "      self.NTK_ss = deepArcCosine.NTK(X_star,X_star).cpu().numpy()\n",
        "      self.NTK = deepArcCosine.NTK(X,X).cpu().numpy()\n",
        "\n",
        "    def NTK_mean(self):\n",
        "      L_NTK = np.linalg.cholesky(self.NTK+0.00005 * np.eye(X.shape[0]))\n",
        "      L_help = np.linalg.solve(L_NTK, self.NTK_star.T)  # 4 x 100\n",
        "      mat = np.eye(4)-scipy.linalg.expm(-self.eta*self.t*self.NTK)\n",
        "      Y_transf = mat.dot(self.Y.cpu().numpy())\n",
        "      meanNTK_star = np.matmul(L_help.T, np.linalg.solve(L_NTK, Y_transf)).reshape((self.n_test,))\n",
        "      return meanNTK_star\n",
        "\n",
        "\n",
        "    def NTK_std(self):\n",
        "      inv = np.linalg.inv(self.NTK)\n",
        "      mat = np.eye(4)-scipy.linalg.expm(-self.eta*self.t*self.NTK)\n",
        "      Temp = np.matmul(self.NTK_star,np.matmul(inv,mat))\n",
        "      A = np.matmul(Temp,self.K_star.T)\n",
        "      B = np.matmul(inv,np.matmul(mat,self.NTK_star.T))\n",
        "      s2 = np.diag(self.K_ss)-2*np.diag(A)+np.diag(np.matmul(Temp,np.matmul(self.K,B)))\n",
        "      stdv_NTK = np.sqrt(s2)\n",
        "      return stdv_NTK"
      ],
      "execution_count": 0,
      "outputs": []
    }
  ]
}