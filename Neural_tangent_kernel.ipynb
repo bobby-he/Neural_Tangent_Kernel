{
  "nbformat": 4,
  "nbformat_minor": 0,
  "metadata": {
    "colab": {
      "name": "Neural_tangent_kernel.ipynb",
      "version": "0.3.2",
      "provenance": [],
      "collapsed_sections": [],
      "include_colab_link": true
    },
    "kernelspec": {
      "name": "python3",
      "display_name": "Python 3"
    },
    "accelerator": "GPU"
  },
  "cells": [
    {
      "cell_type": "markdown",
      "metadata": {
        "id": "view-in-github",
        "colab_type": "text"
      },
      "source": [
        "<a href=\"https://colab.research.google.com/github/bobby-he/Neural_Tangent_Kernel/blob/master/Neural_tangent_kernel.ipynb\" target=\"_parent\"><img src=\"https://colab.research.google.com/assets/colab-badge.svg\" alt=\"Open In Colab\"/></a>"
      ]
    },
    {
      "metadata": {
        "id": "l2O1ZGoXOydI",
        "colab_type": "code",
        "colab": {
          "base_uri": "https://localhost:8080/",
          "height": 34
        },
        "outputId": "21bba232-ec8f-46c0-f7df-62b2a86bfdf4"
      },
      "cell_type": "code",
      "source": [
        "!git clone https://github.com/bobby-he/Neural_Tangent_Kernel.git"
      ],
      "execution_count": 5,
      "outputs": [
        {
          "output_type": "stream",
          "text": [
            "fatal: destination path 'Neural_Tangent_Kernel' already exists and is not an empty directory.\n"
          ],
          "name": "stdout"
        }
      ]
    },
    {
      "metadata": {
        "id": "vkymvg8qPkWu",
        "colab_type": "code",
        "colab": {
          "base_uri": "https://localhost:8080/",
          "height": 34
        },
        "outputId": "dd9cb8d4-b38c-417a-a1b6-ff447b36203e"
      },
      "cell_type": "code",
      "source": [
        "!ls"
      ],
      "execution_count": 4,
      "outputs": [
        {
          "output_type": "stream",
          "text": [
            "Neural_Tangent_Kernel  sample_data\n"
          ],
          "name": "stdout"
        }
      ]
    },
    {
      "metadata": {
        "id": "ck_SYDwAb_yS",
        "colab_type": "code",
        "colab": {}
      },
      "cell_type": "code",
      "source": [
        "import numpy as np\n",
        "import matplotlib.pyplot as plt\n",
        "\n",
        "import torch\n",
        "import torch.nn as nn\n",
        "import torch.nn.functional as F\n",
        "import torch.optim as optim"
      ],
      "execution_count": 0,
      "outputs": []
    },
    {
      "metadata": {
        "id": "3Xg_7Evyd7z5",
        "colab_type": "code",
        "colab": {}
      },
      "cell_type": "code",
      "source": [
        "import seaborn as sns\n",
        "sns.set()"
      ],
      "execution_count": 0,
      "outputs": []
    },
    {
      "metadata": {
        "id": "LPDSlmLrIee6",
        "colab_type": "code",
        "colab": {}
      },
      "cell_type": "code",
      "source": [
        "\n",
        "torch.cuda.current_device()\n",
        "use_cuda = True"
      ],
      "execution_count": 0,
      "outputs": []
    },
    {
      "metadata": {
        "id": "6JrivCGccwu8",
        "colab_type": "text"
      },
      "cell_type": "markdown",
      "source": [
        "# Reproducing the experiments in the neural tangent kernel paper.\n",
        "\n",
        "\n",
        "\n",
        "## 6.2\n",
        "\n",
        "\n",
        "### Define the network\n",
        "\n"
      ]
    },
    {
      "metadata": {
        "id": "gJ7xVEvGoCz9",
        "colab_type": "code",
        "colab": {}
      },
      "cell_type": "code",
      "source": [
        "class LinearNeuralTangentKernel(nn.Linear): \n",
        "    \n",
        "    def __init__(self, in_features, out_features, bias=True, beta=0.1):\n",
        "      self.beta = beta\n",
        "      super(LinearNeuralTangentKernel, self).__init__(in_features, out_features)\n",
        "      self.reset_parameters()\n",
        "      \n",
        "    def reset_parameters(self):\n",
        "        torch.nn.init.normal_(self.weight, mean=0, std=1)\n",
        "        if self.bias is not None:\n",
        "          torch.nn.init.normal_(self.bias, mean=0, std=1)\n",
        "\n",
        "    def forward(self, input):\n",
        "        return F.linear(input, self.weight/np.sqrt(self.in_features), self.beta * self.bias)\n",
        "\n",
        "    def extra_repr(self):\n",
        "        return 'in_features={}, out_features={}, bias={}, beta={}'.format(\n",
        "            self.in_features, self.out_features, self.bias is not None, self.beta\n",
        "        )\n"
      ],
      "execution_count": 0,
      "outputs": []
    },
    {
      "metadata": {
        "id": "Uz-N_1zc2ltO",
        "colab_type": "code",
        "colab": {}
      },
      "cell_type": "code",
      "source": [
        "class FourLayersNet(nn.Module):\n",
        "\n",
        "  def __init__(self, n, beta=0.1):\n",
        "      super(FourLayersNet, self).__init__()\n",
        "      self.fc1 = LinearNeuralTangentKernel(2, n, beta=beta)\n",
        "      self.fc2 = LinearNeuralTangentKernel(n, n, beta=beta)\n",
        "      self.fc3 = LinearNeuralTangentKernel(n, n, beta=beta)\n",
        "      self.fc4 = LinearNeuralTangentKernel(n, 1, beta=beta)\n",
        "\n",
        "  def forward(self, x):\n",
        "      x = F.relu(self.fc1(x))\n",
        "      x = F.relu(self.fc2(x))\n",
        "      x = F.relu(self.fc3(x))\n",
        "      x = self.fc4(x)\n",
        "      return x"
      ],
      "execution_count": 0,
      "outputs": []
    },
    {
      "metadata": {
        "id": "8-adr2CgZT8X",
        "colab_type": "text"
      },
      "cell_type": "markdown",
      "source": [
        "### Define the input data"
      ]
    },
    {
      "metadata": {
        "id": "RWyvdNZeuVBC",
        "colab_type": "code",
        "colab": {}
      },
      "cell_type": "code",
      "source": [
        "gamma_data = torch.tensor(np.array([-2.2, -1, 1, 2.2]))"
      ],
      "execution_count": 0,
      "outputs": []
    },
    {
      "metadata": {
        "id": "JyfvyeWez94v",
        "colab_type": "code",
        "colab": {}
      },
      "cell_type": "code",
      "source": [
        "target_data = torch.tensor(np.array([-0.4, -0.2, 0.3, 0.3])).float()"
      ],
      "execution_count": 0,
      "outputs": []
    },
    {
      "metadata": {
        "id": "gkEEymUSu-mw",
        "colab_type": "code",
        "colab": {}
      },
      "cell_type": "code",
      "source": [
        "def circle_transform(angle_vec):\n",
        "  cos_tensor = torch.cos(angle_vec)\n",
        "  sin_tensor = torch.sin(angle_vec)\n",
        "  return torch.stack((cos_tensor, sin_tensor), -1).float()"
      ],
      "execution_count": 0,
      "outputs": []
    },
    {
      "metadata": {
        "id": "tER4dAS11Glz",
        "colab_type": "code",
        "colab": {}
      },
      "cell_type": "code",
      "source": [
        "input_data = circle_transform(gamma_data)"
      ],
      "execution_count": 0,
      "outputs": []
    },
    {
      "metadata": {
        "id": "ibSciPuc2AXv",
        "colab_type": "code",
        "outputId": "4f917c51-9f1e-49d3-ea19-c318b024fd0e",
        "colab": {
          "base_uri": "https://localhost:8080/",
          "height": 85
        }
      },
      "cell_type": "code",
      "source": [
        "input_data"
      ],
      "execution_count": 0,
      "outputs": [
        {
          "output_type": "execute_result",
          "data": {
            "text/plain": [
              "tensor([[-0.5885, -0.8085],\n",
              "        [ 0.5403, -0.8415],\n",
              "        [ 0.5403,  0.8415],\n",
              "        [-0.5885,  0.8085]])"
            ]
          },
          "metadata": {
            "tags": []
          },
          "execution_count": 10
        }
      ]
    },
    {
      "metadata": {
        "id": "8T8ChmYC06kl",
        "colab_type": "text"
      },
      "cell_type": "markdown",
      "source": [
        "### Training example\n"
      ]
    },
    {
      "metadata": {
        "id": "wZSIQo4c1nKy",
        "colab_type": "code",
        "colab": {}
      },
      "cell_type": "code",
      "source": [
        "net = FourLayersNet(10)\n"
      ],
      "execution_count": 0,
      "outputs": []
    },
    {
      "metadata": {
        "id": "_CLt1IQZsLLe",
        "colab_type": "code",
        "colab": {}
      },
      "cell_type": "code",
      "source": [
        "if use_cuda and torch.cuda.is_available():\n",
        "  net.cuda()\n",
        "  input_data = input_data.cuda()\n",
        "  target_data = target_data.cuda()"
      ],
      "execution_count": 0,
      "outputs": []
    },
    {
      "metadata": {
        "id": "pO-_3Sbd03ml",
        "colab_type": "code",
        "colab": {}
      },
      "cell_type": "code",
      "source": [
        "def train_net(net, n_epochs, input_data, target):\n",
        "  criterion = nn.MSELoss(reduction='mean')\n",
        "  optimizer = optim.SGD(net.parameters(), lr=1)\n",
        "  \n",
        "  for epoch in range(n_epochs):  # loop over the dataset multiple times\n",
        "      # zero the parameter gradients\n",
        "      optimizer.zero_grad()\n",
        "\n",
        "      # forward + backward + optimize\n",
        "      outputs = net(input_data)\n",
        "      \n",
        "      #print(loss, sum(outputs))\n",
        "      #print(net.fc4.bias[0])\n",
        "      loss = criterion(outputs.view(-1), target)\n",
        "      loss.backward()\n",
        "      #print(loss)\n",
        "      optimizer.step()"
      ],
      "execution_count": 0,
      "outputs": []
    },
    {
      "metadata": {
        "id": "AudBMuAbGv7z",
        "colab_type": "code",
        "outputId": "3ee97b59-fad3-49db-c8bc-5233b9feef36",
        "colab": {
          "base_uri": "https://localhost:8080/",
          "height": 69
        }
      },
      "cell_type": "code",
      "source": [
        "%%time\n",
        "\n",
        "train_net(net, 1000, input_data, target_data)\n",
        "#print(criterion(net(input_data.view(-1), target_data)))\n",
        "#print(net(input_data))"
      ],
      "execution_count": 0,
      "outputs": [
        {
          "output_type": "stream",
          "text": [
            "Finished Training\n",
            "CPU times: user 2.22 s, sys: 356 ms, total: 2.58 s\n",
            "Wall time: 2.64 s\n"
          ],
          "name": "stdout"
        }
      ]
    },
    {
      "metadata": {
        "id": "rah7Z_wvcQcP",
        "colab_type": "code",
        "outputId": "ff817370-ae22-4950-edb0-76aceedbee79",
        "colab": {
          "base_uri": "https://localhost:8080/",
          "height": 87
        }
      },
      "cell_type": "code",
      "source": [
        "net(input_data)"
      ],
      "execution_count": 0,
      "outputs": [
        {
          "output_type": "execute_result",
          "data": {
            "text/plain": [
              "tensor([[-0.4000],\n",
              "        [-0.2000],\n",
              "        [ 0.3000],\n",
              "        [ 0.3000]], device='cuda:0', grad_fn=<AddmmBackward>)"
            ]
          },
          "metadata": {
            "tags": []
          },
          "execution_count": 15
        }
      ]
    },
    {
      "metadata": {
        "id": "cPvT9GbnZgUd",
        "colab_type": "text"
      },
      "cell_type": "markdown",
      "source": [
        "### Plot basic example"
      ]
    },
    {
      "metadata": {
        "id": "8nLp2OrMZkC7",
        "colab_type": "code",
        "colab": {}
      },
      "cell_type": "code",
      "source": [
        "gamma_vec = torch.tensor(np.linspace(-np.pi, np.pi, 100))\n",
        "circle_points = circle_transform(gamma_vec).cuda()"
      ],
      "execution_count": 0,
      "outputs": []
    },
    {
      "metadata": {
        "id": "1hs32PJPabhc",
        "colab_type": "code",
        "colab": {}
      },
      "cell_type": "code",
      "source": [
        "output_vec = net(circle_points)\n",
        "if use_cuda and torch.cuda.is_available():\n",
        "  output_vec = output_vec.cpu()"
      ],
      "execution_count": 0,
      "outputs": []
    },
    {
      "metadata": {
        "id": "n8mketk4bDu2",
        "colab_type": "code",
        "outputId": "f906dc7a-db0e-45b6-edb3-7bbf45eb5cc8",
        "colab": {
          "base_uri": "https://localhost:8080/",
          "height": 363
        }
      },
      "cell_type": "code",
      "source": [
        "plt.plot(gamma_vec.numpy(), output_vec.detach().numpy())\n",
        "plt.xlabel('$\\gamma$')\n",
        "plt.ylabel('$f_{ \\\\theta}(sin(y),cos(y))$')\n",
        "plt.show()"
      ],
      "execution_count": 0,
      "outputs": [
        {
          "output_type": "display_data",
          "data": {
            "image/png": "[encoded data removed]",
            "text/plain": [
              "<Figure size 576x396 with 1 Axes>"
            ]
          },
          "metadata": {
            "tags": []
          }
        }
      ]
    },
    {
      "metadata": {
        "id": "aHbBisS51Qcl",
        "colab_type": "code",
        "outputId": "6f6d32b5-20ca-47d7-a298-0b0dd22b1ec2",
        "colab": {
          "base_uri": "https://localhost:8080/",
          "height": 34
        }
      },
      "cell_type": "code",
      "source": [
        "target_data"
      ],
      "execution_count": 0,
      "outputs": [
        {
          "output_type": "execute_result",
          "data": {
            "text/plain": [
              "tensor([-0.4000, -0.2000,  0.3000,  0.3000], device='cuda:0')"
            ]
          },
          "metadata": {
            "tags": []
          },
          "execution_count": 105
        }
      ]
    },
    {
      "metadata": {
        "id": "Vjk242FScVmK",
        "colab_type": "code",
        "outputId": "798b55a3-6c78-462c-fcf3-677fb85fbec3",
        "colab": {
          "base_uri": "https://localhost:8080/",
          "height": 871
        }
      },
      "cell_type": "code",
      "source": [
        "for i in range(10):\n",
        "  # 1000 width first\n",
        "  net = FourLayersNet(1000).cuda()  \n",
        "  train_net(net, 1000, input_data, target_data)\n",
        "  output_vec = net(circle_points)\n",
        "  if use_cuda and torch.cuda.is_available():\n",
        "    output_vec = output_vec.cpu()\n",
        "  plt.plot(gamma_vec.numpy(), output_vec.detach().numpy(), color='red',\n",
        "           linestyle='--', alpha = 0.3)\n",
        " \n",
        "# 50 width\n",
        "  net = FourLayersNet(1000).cuda()\n",
        "  train_net(net, 1000, input_data, target_data)\n",
        "  output_vec = net(circle_points)\n",
        "  if use_cuda and torch.cuda.is_available():\n",
        "    output_vec = output_vec.cpu()\n",
        "  plt.plot(gamma_vec.numpy(), output_vec.detach().numpy(), color='green',\n",
        "           linestyle='--', alpha = 0.3)\n",
        "  \n",
        "  print('Completed initialisation {}'.format(i))\n",
        "   \n",
        "   "
      ],
      "execution_count": 0,
      "outputs": [
        {
          "output_type": "stream",
          "text": [
            "Finished Training\n",
            "Finished Training\n",
            "Completed initialisation 0\n",
            "Finished Training\n",
            "Finished Training\n",
            "Completed initialisation 1\n",
            "Finished Training\n",
            "Finished Training\n",
            "Completed initialisation 2\n",
            "Finished Training\n",
            "Finished Training\n",
            "Completed initialisation 3\n",
            "Finished Training\n",
            "Finished Training\n",
            "Completed initialisation 4\n",
            "Finished Training\n",
            "Finished Training\n",
            "Completed initialisation 5\n",
            "Finished Training\n",
            "Finished Training\n",
            "Completed initialisation 6\n",
            "Finished Training\n",
            "Finished Training\n",
            "Completed initialisation 7\n",
            "Finished Training\n",
            "Finished Training\n",
            "Completed initialisation 8\n",
            "Finished Training\n",
            "Finished Training\n",
            "Completed initialisation 9\n"
          ],
          "name": "stdout"
        },
        {
          "output_type": "display_data",
          "data": {
            "image/png": "[encoded data removed]",
            "text/plain": [
              "<Figure size 576x396 with 1 Axes>"
            ]
          },
          "metadata": {
            "tags": []
          }
        }
      ]
    },
    {
      "metadata": {
        "id": "ytT70NBk2J_I",
        "colab_type": "code",
        "outputId": "681160ac-f0f1-4f78-844c-9161d64696c2",
        "colab": {
          "base_uri": "https://localhost:8080/",
          "height": 87
        }
      },
      "cell_type": "code",
      "source": [
        "net(input_data)"
      ],
      "execution_count": 0,
      "outputs": [
        {
          "output_type": "execute_result",
          "data": {
            "text/plain": [
              "tensor([[0.1802],\n",
              "        [0.2827],\n",
              "        [0.1795],\n",
              "        [0.2198]], device='cuda:0', grad_fn=<AddmmBackward>)"
            ]
          },
          "metadata": {
            "tags": []
          },
          "execution_count": 109
        }
      ]
    },
    {
      "metadata": {
        "id": "P7hyDhgo__JY",
        "colab_type": "code",
        "outputId": "028f4296-9786-4c85-ebd9-df7bcd1215e7",
        "colab": {
          "base_uri": "https://localhost:8080/",
          "height": 34
        }
      },
      "cell_type": "code",
      "source": [
        "def train_net(net, n_epochs, input_data, target):\n",
        "  criterion = nn.MSELoss(reduction='mean')\n",
        "  optimizer = optim.SGD(net.parameters(), lr=1)\n",
        "  \n",
        "  for epoch in range(n_epochs):  # loop over the dataset multiple times\n",
        "\n",
        "      # zero the parameter gradients\n",
        "      optimizer.zero_grad()\n",
        "\n",
        "      # forward + backward + optimize\n",
        "      outputs = net(input_data)\n",
        "      \n",
        "      #print(loss, sum(outputs))\n",
        "      #print(net.fc4.bias[0])\n",
        "      loss = criterion(outputs.view(-1), target)\n",
        "      loss.backward()\n",
        "      #print(loss)\n",
        "      optimizer.step()"
      ],
      "execution_count": 0,
      "outputs": [
        {
          "output_type": "execute_result",
          "data": {
            "text/plain": [
              "<generator object Module.parameters at 0x7f61387db678>"
            ]
          },
          "metadata": {
            "tags": []
          },
          "execution_count": 24
        }
      ]
    },
    {
      "metadata": {
        "id": "KJotpFAmfhHS",
        "colab_type": "text"
      },
      "cell_type": "markdown",
      "source": [
        "### Getting the GP process plot is harder (I think) because of a lack of a standard kernel, here is an attempt but it is probably horrifically inefficient"
      ]
    },
    {
      "metadata": {
        "id": "J6IOmR-pBzPS",
        "colab_type": "code",
        "colab": {}
      },
      "cell_type": "code",
      "source": [
        "n_pts=20 # number of points in plot\n",
        "grad_mat = torch.zeros((n_pts,4))\n",
        "net = FourLayersNet(100)\n",
        "if use_cuda and torch.cuda.is_available():\n",
        "  net.cuda()\n",
        "  input_data = input_data.cuda()\n",
        "  target_data = target_data.cuda()\n"
      ],
      "execution_count": 0,
      "outputs": []
    },
    {
      "metadata": {
        "id": "UA9WIsvV4uUB",
        "colab_type": "code",
        "colab": {}
      },
      "cell_type": "code",
      "source": [
        "gamma_test = torch.tensor(np.linspace(-np.pi,np.pi, n_pts))\n",
        "initial_train = net(input_data) # this acts of f_0 on page 7 of NTK paper\n",
        "initial_test = net(circle_transform(gamma_test).cuda())"
      ],
      "execution_count": 0,
      "outputs": []
    },
    {
      "metadata": {
        "id": "WDUkUDbelt9o",
        "colab_type": "code",
        "colab": {}
      },
      "cell_type": "code",
      "source": [
        "train_net(net, 1000, input_data, target_data)"
      ],
      "execution_count": 0,
      "outputs": []
    },
    {
      "metadata": {
        "id": "YmxcK8E8vqrC",
        "colab_type": "code",
        "colab": {}
      },
      "cell_type": "code",
      "source": [
        "grad_list = []\n",
        "for gamma in gamma_data:\n",
        "  circle_pt = circle_transform(gamma)\n",
        "  if use_cuda and torch.cuda.is_available():\n",
        "    circle_pt = circle_pt.cuda()\n",
        "  loss = net(circle_pt)\n",
        "  grad_list.append(torch.autograd.grad(loss,net.parameters(), retain_graph = True))"
      ],
      "execution_count": 0,
      "outputs": []
    },
    {
      "metadata": {
        "id": "It06xvPkrfmp",
        "colab_type": "code",
        "colab": {}
      },
      "cell_type": "code",
      "source": [
        "# grad_mat is kappa on p7 of NTK paper\n",
        "for i, gamma in enumerate(gamma_test):\n",
        "  circle_pt = circle_transform(gamma)\n",
        "  if use_cuda and torch.cuda.is_available():\n",
        "    circle_pt = circle_pt.cuda()\n",
        "  loss = net(circle_pt)\n",
        "  grads = torch.autograd.grad(loss,net.parameters(), retain_graph = True) # extract NN gradients \n",
        "  for j in range(len(grad_list)):\n",
        "    pt_grad = grad_list[j] # the gradients at the jth (out of 4) data point\n",
        "    grad_mat[i, j] = sum([torch.sum(torch.mul(grads[u], pt_grad[u])) for u in range(len(grads))])"
      ],
      "execution_count": 0,
      "outputs": []
    },
    {
      "metadata": {
        "id": "gsgA0pJ-07Pq",
        "colab_type": "code",
        "colab": {}
      },
      "cell_type": "code",
      "source": [
        "# let's create Ktilde matrix from p7 of NTK paper\n",
        "tilde_mat = torch.zeros((4,4))\n",
        "for i in range(4):\n",
        "  grad_i = grad_list[i]\n",
        "  for j in range(i+1):\n",
        "    grad_j = grad_list[j]\n",
        "    tilde_mat[i, j] = sum([torch.sum(torch.mul(grad_i[u], grad_j[u])) for u in range(len(grads))])\n",
        "    tilde_mat[j, i] = tilde_mat[i, j]\n",
        "    \n",
        "tilde_inv = torch.inverse(tilde_mat)"
      ],
      "execution_count": 0,
      "outputs": []
    },
    {
      "metadata": {
        "id": "Ftm_LV7W3QnV",
        "colab_type": "code",
        "colab": {}
      },
      "cell_type": "code",
      "source": [
        "temp_mat = torch.mm(grad_mat, tilde_inv)"
      ],
      "execution_count": 0,
      "outputs": []
    },
    {
      "metadata": {
        "id": "tee2ykEpNl1m",
        "colab_type": "code",
        "outputId": "e3728f06-8b32-4041-a2fd-aa6930a426e2",
        "colab": {
          "base_uri": "https://localhost:8080/",
          "height": 34
        }
      },
      "cell_type": "code",
      "source": [
        "temp_mat.device"
      ],
      "execution_count": 0,
      "outputs": [
        {
          "output_type": "execute_result",
          "data": {
            "text/plain": [
              "device(type='cpu')"
            ]
          },
          "metadata": {
            "tags": []
          },
          "execution_count": 38
        }
      ]
    },
    {
      "metadata": {
        "id": "jJd9AZ9E6_0D",
        "colab_type": "code",
        "colab": {}
      },
      "cell_type": "code",
      "source": [
        "target_data = target_data.cpu()"
      ],
      "execution_count": 0,
      "outputs": []
    },
    {
      "metadata": {
        "id": "e6g90XrG3mO9",
        "colab_type": "code",
        "colab": {}
      },
      "cell_type": "code",
      "source": [
        "mean_vec = torch.mm(temp_mat, target_data.unsqueeze(1)) #+ initial_test.cpu() - torch.mm(temp_mat, initial_train.cpu())"
      ],
      "execution_count": 0,
      "outputs": []
    },
    {
      "metadata": {
        "id": "uFs60Ujz6Ah1",
        "colab_type": "code",
        "outputId": "ccc7eb31-efa7-4157-fde6-5eb78823c1df",
        "colab": {
          "base_uri": "https://localhost:8080/",
          "height": 364
        }
      },
      "cell_type": "code",
      "source": [
        "plt.plot(gamma_test.numpy(), mean_vec.detach().numpy())"
      ],
      "execution_count": 0,
      "outputs": [
        {
          "output_type": "execute_result",
          "data": {
            "text/plain": [
              "[<matplotlib.lines.Line2D at 0x7f2cd683c6a0>]"
            ]
          },
          "metadata": {
            "tags": []
          },
          "execution_count": 25
        },
        {
          "output_type": "display_data",
          "data": {
            "image/png": "[encoded data removed]",
            "text/plain": [
              "<Figure size 576x396 with 1 Axes>"
            ]
          },
          "metadata": {
            "tags": []
          }
        }
      ]
    },
    {
      "metadata": {
        "id": "EjcEYh1mB7uC",
        "colab_type": "text"
      },
      "cell_type": "markdown",
      "source": [
        "### It remains to estimate sigma matrix"
      ]
    },
    {
      "metadata": {
        "id": "Oq9OP9AyCBrN",
        "colab_type": "code",
        "colab": {}
      },
      "cell_type": "code",
      "source": [
        "new_model = nn.Sequential(*(list(net.children())[:-1]))"
      ],
      "execution_count": 0,
      "outputs": []
    },
    {
      "metadata": {
        "id": "PnHNyig0GRb7",
        "colab_type": "code",
        "colab": {}
      },
      "cell_type": "code",
      "source": [
        "new_model = nn.Sequential(new_model, nn.ReLU())"
      ],
      "execution_count": 0,
      "outputs": []
    },
    {
      "metadata": {
        "id": "TueAF-NiHLMc",
        "colab_type": "code",
        "outputId": "1a942865-43ff-4b9f-f3a4-b127186e526e",
        "colab": {
          "base_uri": "https://localhost:8080/",
          "height": 85
        }
      },
      "cell_type": "code",
      "source": [
        "torch.mean(new_model(input_data), dim=1, keepdim=True)"
      ],
      "execution_count": 0,
      "outputs": [
        {
          "output_type": "execute_result",
          "data": {
            "text/plain": [
              "tensor([[0.3217],\n",
              "        [0.2725],\n",
              "        [0.2903],\n",
              "        [0.2419]], device='cuda:0', grad_fn=<MeanBackward0>)"
            ]
          },
          "metadata": {
            "tags": []
          },
          "execution_count": 28
        }
      ]
    },
    {
      "metadata": {
        "id": "JxjPOhdwKfoP",
        "colab_type": "code",
        "colab": {}
      },
      "cell_type": "code",
      "source": [
        "sigma_testvtest = torch.mean(new_model(circle_transform(gamma_test).cuda())**2, dim = 1, keepdim=True) + torch.tensor(0.01) # n_pts x 1 dim vector \n"
      ],
      "execution_count": 0,
      "outputs": []
    },
    {
      "metadata": {
        "id": "OzmhgbeXmKd3",
        "colab_type": "code",
        "outputId": "9edad33b-447d-49cf-f70f-de7161773b4e",
        "colab": {
          "base_uri": "https://localhost:8080/",
          "height": 34
        }
      },
      "cell_type": "code",
      "source": [
        "sigma_testvtest.shape"
      ],
      "execution_count": 0,
      "outputs": [
        {
          "output_type": "execute_result",
          "data": {
            "text/plain": [
              "torch.Size([20, 1])"
            ]
          },
          "metadata": {
            "tags": []
          },
          "execution_count": 30
        }
      ]
    },
    {
      "metadata": {
        "id": "lqXRGtu0mGV3",
        "colab_type": "code",
        "outputId": "932ab9a8-c09c-45bf-b7e4-1e013f469ab7",
        "colab": {
          "base_uri": "https://localhost:8080/",
          "height": 34
        }
      },
      "cell_type": "code",
      "source": [
        "sigma_testvtrain = torch.mm(new_model(circle_transform(gamma_test).cuda()),torch.t(new_model(input_data)))/100 + torch.tensor(0.01) # n_pts x 4 dim matrix\n",
        "sigma_testvtrain.shape"
      ],
      "execution_count": 0,
      "outputs": [
        {
          "output_type": "execute_result",
          "data": {
            "text/plain": [
              "torch.Size([20, 4])"
            ]
          },
          "metadata": {
            "tags": []
          },
          "execution_count": 33
        }
      ]
    },
    {
      "metadata": {
        "id": "Zjq3INbDmMG7",
        "colab_type": "code",
        "colab": {}
      },
      "cell_type": "code",
      "source": [
        "sigma_trainvtrain = torch.mm(new_model(input_data),torch.t(new_model(input_data)))/100 + torch.tensor(0.01) # 4 x 4 dim matrix"
      ],
      "execution_count": 0,
      "outputs": []
    },
    {
      "metadata": {
        "id": "jGBXtUQemT_H",
        "colab_type": "code",
        "colab": {}
      },
      "cell_type": "code",
      "source": [
        "variance_vec = sigma_testvtest.view(-1) -2 * torch.diag(torch.mm(sigma_testvtrain,torch.t(temp_mat.cuda()))) + torch.diag(torch.mm(temp_mat.cuda(), torch.mm(sigma_trainvtrain, torch.t(temp_mat.cuda()))))"
      ],
      "execution_count": 0,
      "outputs": []
    },
    {
      "metadata": {
        "id": "yHUuZKWDt3_L",
        "colab_type": "code",
        "outputId": "3ef827f7-1261-428a-db52-8c89af43e7cd",
        "colab": {
          "base_uri": "https://localhost:8080/",
          "height": 34
        }
      },
      "cell_type": "code",
      "source": [
        "torch.diag(torch.mm(sigma_testvtrain,torch.t(temp_mat.cuda()))).shape"
      ],
      "execution_count": 0,
      "outputs": [
        {
          "output_type": "execute_result",
          "data": {
            "text/plain": [
              "torch.Size([20])"
            ]
          },
          "metadata": {
            "tags": []
          },
          "execution_count": 46
        }
      ]
    },
    {
      "metadata": {
        "id": "Jis8ihQEt8Zz",
        "colab_type": "code",
        "outputId": "7e7628e3-3b29-4c1c-9bb0-4934e5893230",
        "colab": {
          "base_uri": "https://localhost:8080/",
          "height": 34
        }
      },
      "cell_type": "code",
      "source": [
        "torch.diag(torch.mm(temp_mat.cuda(), torch.mm(sigma_trainvtrain, torch.t(temp_mat.cuda())))).view(-1).shape"
      ],
      "execution_count": 0,
      "outputs": [
        {
          "output_type": "execute_result",
          "data": {
            "text/plain": [
              "torch.Size([20])"
            ]
          },
          "metadata": {
            "tags": []
          },
          "execution_count": 48
        }
      ]
    },
    {
      "metadata": {
        "id": "I4el6h-mtbyh",
        "colab_type": "code",
        "colab": {}
      },
      "cell_type": "code",
      "source": [
        "variance_vec = variance_vec.cpu()"
      ],
      "execution_count": 0,
      "outputs": []
    },
    {
      "metadata": {
        "id": "eBxYrOIjtq5i",
        "colab_type": "code",
        "outputId": "d7792b6b-bdd4-4083-d10a-833828e3f526",
        "colab": {
          "base_uri": "https://localhost:8080/",
          "height": 34
        }
      },
      "cell_type": "code",
      "source": [
        "variance_vec.requires_grad"
      ],
      "execution_count": 0,
      "outputs": [
        {
          "output_type": "execute_result",
          "data": {
            "text/plain": [
              "True"
            ]
          },
          "metadata": {
            "tags": []
          },
          "execution_count": 43
        }
      ]
    },
    {
      "metadata": {
        "id": "038UcgS2tjPR",
        "colab_type": "code",
        "outputId": "b14f4a86-3957-41ef-e6b4-fc2cd8247147",
        "colab": {
          "base_uri": "https://localhost:8080/",
          "height": 34
        }
      },
      "cell_type": "code",
      "source": [
        "variance_vec.shape"
      ],
      "execution_count": 0,
      "outputs": [
        {
          "output_type": "execute_result",
          "data": {
            "text/plain": [
              "torch.Size([20])"
            ]
          },
          "metadata": {
            "tags": []
          },
          "execution_count": 51
        }
      ]
    },
    {
      "metadata": {
        "id": "cM-jLyjoJJwk",
        "colab_type": "code",
        "outputId": "3c2091c2-b83d-4c32-b8fa-2133306b94c1",
        "colab": {
          "base_uri": "https://localhost:8080/",
          "height": 364
        }
      },
      "cell_type": "code",
      "source": [
        "plt.plot(gamma_test.numpy(), variance_vec.detach().numpy())"
      ],
      "execution_count": 0,
      "outputs": [
        {
          "output_type": "execute_result",
          "data": {
            "text/plain": [
              "[<matplotlib.lines.Line2D at 0x7f2cd2700588>]"
            ]
          },
          "metadata": {
            "tags": []
          },
          "execution_count": 52
        },
        {
          "output_type": "display_data",
          "data": {
            "image/png": "[encoded data removed]",
            "text/plain": [
              "<Figure size 576x396 with 1 Axes>"
            ]
          },
          "metadata": {
            "tags": []
          }
        }
      ]
    },
    {
      "metadata": {
        "id": "5BdbHzttuLwl",
        "colab_type": "code",
        "outputId": "ec03b93f-801b-436b-8971-d27d1a394277",
        "colab": {
          "base_uri": "https://localhost:8080/",
          "height": 364
        }
      },
      "cell_type": "code",
      "source": [
        "plt.plot(gamma_test.numpy(), mean_vec.view(-1).detach().numpy()+2*variance_vec.detach().numpy())\n",
        "plt.plot(gamma_test.numpy(), mean_vec.view(-1).detach().numpy()-2*variance_vec.detach().numpy())\n",
        "plt.plot(gamma_test.numpy(), mean_vec.view(-1).detach().numpy()+0*variance_vec.detach().numpy())"
      ],
      "execution_count": 0,
      "outputs": [
        {
          "output_type": "execute_result",
          "data": {
            "text/plain": [
              "[<matplotlib.lines.Line2D at 0x7f2cd25ac0b8>]"
            ]
          },
          "metadata": {
            "tags": []
          },
          "execution_count": 56
        },
        {
          "output_type": "display_data",
          "data": {
            "image/png": "[encoded data removed]",
            "text/plain": [
              "<Figure size 576x396 with 1 Axes>"
            ]
          },
          "metadata": {
            "tags": []
          }
        }
      ]
    }
  ]
}