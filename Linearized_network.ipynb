{
  "nbformat": 4,
  "nbformat_minor": 0,
  "metadata": {
    "colab": {
      "name": "Linearized_network.ipynb",
      "version": "0.3.2",
      "provenance": [],
      "collapsed_sections": [
        "CbiQzRpBqbH7"
      ],
      "include_colab_link": true
    },
    "kernelspec": {
      "name": "python3",
      "display_name": "Python 3"
    },
    "accelerator": "GPU"
  },
  "cells": [
    {
      "cell_type": "markdown",
      "metadata": {
        "id": "view-in-github",
        "colab_type": "text"
      },
      "source": [
        "<a href=\"https://colab.research.google.com/github/bobby-he/Neural_Tangent_Kernel/blob/master/Linearized_network.ipynb\" target=\"_parent\"><img src=\"https://colab.research.google.com/assets/colab-badge.svg\" alt=\"Open In Colab\"/></a>"
      ]
    },
    {
      "metadata": {
        "id": "z47GCgxj68PD",
        "colab_type": "code",
        "outputId": "cdca6e47-765c-4af4-fb0e-4170216ab7fd",
        "colab": {
          "base_uri": "https://localhost:8080/",
          "height": 139
        }
      },
      "cell_type": "code",
      "source": [
        "!git clone https://github.com/bobby-he/Neural_Tangent_Kernel.git"
      ],
      "execution_count": 1,
      "outputs": [
        {
          "output_type": "stream",
          "text": [
            "Cloning into 'Neural_Tangent_Kernel'...\n",
            "remote: Enumerating objects: 36, done.\u001b[K\n",
            "remote: Counting objects:   2% (1/36)   \u001b[K\rremote: Counting objects:   5% (2/36)   \u001b[K\rremote: Counting objects:   8% (3/36)   \u001b[K\rremote: Counting objects:  11% (4/36)   \u001b[K\rremote: Counting objects:  13% (5/36)   \u001b[K\rremote: Counting objects:  16% (6/36)   \u001b[K\rremote: Counting objects:  19% (7/36)   \u001b[K\rremote: Counting objects:  22% (8/36)   \u001b[K\rremote: Counting objects:  25% (9/36)   \u001b[K\rremote: Counting objects:  27% (10/36)   \u001b[K\rremote: Counting objects:  30% (11/36)   \u001b[K\rremote: Counting objects:  33% (12/36)   \u001b[K\rremote: Counting objects:  36% (13/36)   \u001b[K\rremote: Counting objects:  38% (14/36)   \u001b[K\rremote: Counting objects:  41% (15/36)   \u001b[K\rremote: Counting objects:  44% (16/36)   \u001b[K\rremote: Counting objects:  47% (17/36)   \u001b[K\rremote: Counting objects:  50% (18/36)   \u001b[K\rremote: Counting objects:  52% (19/36)   \u001b[K\rremote: Counting objects:  55% (20/36)   \u001b[K\rremote: Counting objects:  58% (21/36)   \u001b[K\rremote: Counting objects:  61% (22/36)   \u001b[K\rremote: Counting objects:  63% (23/36)   \u001b[K\rremote: Counting objects:  66% (24/36)   \u001b[K\rremote: Counting objects:  69% (25/36)   \u001b[K\rremote: Counting objects:  72% (26/36)   \u001b[K\rremote: Counting objects:  75% (27/36)   \u001b[K\rremote: Counting objects:  77% (28/36)   \u001b[K\rremote: Counting objects:  80% (29/36)   \u001b[K\rremote: Counting objects:  83% (30/36)   \u001b[K\rremote: Counting objects:  86% (31/36)   \u001b[K\rremote: Counting objects:  88% (32/36)   \u001b[K\rremote: Counting objects:  91% (33/36)   \u001b[K\rremote: Counting objects:  94% (34/36)   \u001b[K\rremote: Counting objects:  97% (35/36)   \u001b[K\rremote: Counting objects: 100% (36/36)   \u001b[K\rremote: Counting objects: 100% (36/36), done.\u001b[K\n",
            "remote: Compressing objects: 100% (27/27), done.\u001b[K\n",
            "remote: Total 227 (delta 18), reused 10 (delta 4), pack-reused 191\u001b[K\n",
            "Receiving objects: 100% (227/227), 21.48 MiB | 6.58 MiB/s, done.\n",
            "Resolving deltas: 100% (101/101), done.\n"
          ],
          "name": "stdout"
        }
      ]
    },
    {
      "metadata": {
        "id": "GbAEITkK6pRZ",
        "colab_type": "code",
        "outputId": "bfb9f097-2045-4f4a-b9be-bdbae02f56db",
        "colab": {
          "base_uri": "https://localhost:8080/",
          "height": 34
        }
      },
      "cell_type": "code",
      "source": [
        "! ls"
      ],
      "execution_count": 2,
      "outputs": [
        {
          "output_type": "stream",
          "text": [
            "Neural_Tangent_Kernel  sample_data\n"
          ],
          "name": "stdout"
        }
      ]
    },
    {
      "metadata": {
        "id": "GzgbDzck5Pnz",
        "colab_type": "text"
      },
      "cell_type": "markdown",
      "source": [
        "# Apply the results from the linearized network paper to the experiments in Neural Tangent Kernel paper\n",
        "\n",
        "## Same setup as section 6.2\n",
        "\n",
        "Start from the simple example of the 4 elements, and apply the formulas from the linearized network paper to compare with the analytical dynammics of the weights and the  network function. \n",
        "\n",
        "\n",
        "**NOTE**: _the code in this notebook is quite messy and there may be big confusions with the fact that both np arrays and torch tensors are used, as well as some reshaping ad hoc. Keep this in mind when adapting this code to other examples._\n"
      ]
    },
    {
      "metadata": {
        "id": "cpD2s2gLAD_i",
        "colab_type": "code",
        "colab": {}
      },
      "cell_type": "code",
      "source": [
        "from google.colab import files"
      ],
      "execution_count": 0,
      "outputs": []
    },
    {
      "metadata": {
        "id": "ck_SYDwAb_yS",
        "colab_type": "code",
        "colab": {}
      },
      "cell_type": "code",
      "source": [
        "import numpy as np\n",
        "\n",
        "from scipy.linalg import eig\n",
        "\n",
        "import matplotlib.pyplot as plt\n",
        "\n",
        "import torch\n",
        "import torch.nn as nn\n",
        "import torch.nn.functional as F\n",
        "import torch.optim as optim\n",
        "\n",
        "from tqdm import tqdm\n",
        "import time"
      ],
      "execution_count": 0,
      "outputs": []
    },
    {
      "metadata": {
        "id": "3Xg_7Evyd7z5",
        "colab_type": "code",
        "colab": {}
      },
      "cell_type": "code",
      "source": [
        "import seaborn as sns\n",
        "sns.set()"
      ],
      "execution_count": 0,
      "outputs": []
    },
    {
      "metadata": {
        "id": "4nM-3KhZJvhO",
        "colab_type": "code",
        "colab": {}
      },
      "cell_type": "code",
      "source": [
        "from collections import OrderedDict"
      ],
      "execution_count": 0,
      "outputs": []
    },
    {
      "metadata": {
        "id": "7xed42sTer2O",
        "colab_type": "code",
        "colab": {}
      },
      "cell_type": "code",
      "source": [
        "import sys\n",
        "sys.path.append(\"../\")\n",
        "from Neural_Tangent_Kernel.src.NTK_net import LinearNeuralTangentKernel, FourLayersNet, train_net, circle_transform, variance_est, cpu_tuple, kernel_mats"
      ],
      "execution_count": 0,
      "outputs": []
    },
    {
      "metadata": {
        "id": "LPDSlmLrIee6",
        "colab_type": "code",
        "colab": {
          "base_uri": "https://localhost:8080/",
          "height": 34
        },
        "outputId": "882863c1-7efe-4a73-c4be-209208cb2904"
      },
      "cell_type": "code",
      "source": [
        "use_cuda = True if torch.cuda.is_available() else False\n",
        "use_cuda"
      ],
      "execution_count": 8,
      "outputs": [
        {
          "output_type": "execute_result",
          "data": {
            "text/plain": [
              "True"
            ]
          },
          "metadata": {
            "tags": []
          },
          "execution_count": 8
        }
      ]
    },
    {
      "metadata": {
        "id": "8-adr2CgZT8X",
        "colab_type": "text"
      },
      "cell_type": "markdown",
      "source": [
        "### Define the input and target data, together with some test data"
      ]
    },
    {
      "metadata": {
        "id": "RWyvdNZeuVBC",
        "colab_type": "code",
        "colab": {}
      },
      "cell_type": "code",
      "source": [
        "gamma_data = torch.tensor(np.array([-2.2, -1, 1, 2.2]))\n",
        "n_train = len(gamma_data)\n",
        "target_data = torch.tensor(np.array([-0.4, -0.2, 0.3, 0.3])).float()\n",
        "input_data = circle_transform(gamma_data)\n",
        "if use_cuda:\n",
        "  input_data = input_data.cuda()\n",
        "  target_data = target_data.cuda()"
      ],
      "execution_count": 0,
      "outputs": []
    },
    {
      "metadata": {
        "id": "ied1TTxrgG2F",
        "colab_type": "code",
        "colab": {}
      },
      "cell_type": "code",
      "source": [
        "gamma_test = torch.tensor(np.linspace(-np.pi, np.pi, 10))  # we take only 10 test points where to study the predictions. \n",
        "n_test = len(gamma_test)\n",
        "test_data = circle_transform(gamma_test)\n",
        "if use_cuda:\n",
        "  test_data = test_data.cuda()"
      ],
      "execution_count": 0,
      "outputs": []
    },
    {
      "metadata": {
        "id": "hcCD-4bS7ZoJ",
        "colab_type": "text"
      },
      "cell_type": "markdown",
      "source": [
        "### I need to instanciate a network and compute the kernel on it at initialization. Then, I will compute the analytical dynamics of the weight and compare it to the one obtained with standard gradient descent training in parameter space."
      ]
    },
    {
      "metadata": {
        "id": "tKcoHzE28Z8o",
        "colab_type": "code",
        "colab": {}
      },
      "cell_type": "code",
      "source": [
        "n_width = 50"
      ],
      "execution_count": 0,
      "outputs": []
    },
    {
      "metadata": {
        "id": "Zf9uN5Ry7sPh",
        "colab_type": "code",
        "colab": {}
      },
      "cell_type": "code",
      "source": [
        "# instanciate network\n",
        "net = FourLayersNet(n_width)\n",
        "if use_cuda:\n",
        "  net.cuda()"
      ],
      "execution_count": 0,
      "outputs": []
    },
    {
      "metadata": {
        "id": "qrIhwSeA8WKA",
        "colab_type": "code",
        "outputId": "4aef9f3b-8d57-49cf-80c2-c8c3d985d9ce",
        "colab": {
          "base_uri": "https://localhost:8080/",
          "height": 34
        }
      },
      "cell_type": "code",
      "source": [
        "initial_train = net(input_data).reshape(-1) # this acts of f_0. Reshape removes the dummy dimension.\n",
        "initial_train.shape"
      ],
      "execution_count": 13,
      "outputs": [
        {
          "output_type": "execute_result",
          "data": {
            "text/plain": [
              "torch.Size([4])"
            ]
          },
          "metadata": {
            "tags": []
          },
          "execution_count": 13
        }
      ]
    },
    {
      "metadata": {
        "id": "Fz7eL5bA8oVL",
        "colab_type": "text"
      },
      "cell_type": "markdown",
      "source": [
        "The following cell computes the gradients with respect to all parameters\n"
      ]
    },
    {
      "metadata": {
        "id": "YmxcK8E8vqrC",
        "colab_type": "code",
        "colab": {}
      },
      "cell_type": "code",
      "source": [
        "def compute_grad_list(gamma_data): \n",
        "  grad_list = []\n",
        "  for gamma in gamma_data:\n",
        "    circle_pt = circle_transform(gamma)\n",
        "    if use_cuda and torch.cuda.is_available():\n",
        "      circle_pt = circle_pt.cuda()\n",
        "    loss = net(circle_pt)\n",
        "    grad_list.append(cpu_tuple(torch.autograd.grad(loss, net.parameters(), retain_graph = True)))\n",
        "    \n",
        "  return(grad_list)"
      ],
      "execution_count": 0,
      "outputs": []
    },
    {
      "metadata": {
        "id": "uBq5kXBaN7jr",
        "colab_type": "code",
        "colab": {}
      },
      "cell_type": "code",
      "source": [
        "grad_list = compute_grad_list(gamma_data)"
      ],
      "execution_count": 0,
      "outputs": []
    },
    {
      "metadata": {
        "id": "NkiQcjfkpYFi",
        "colab_type": "text"
      },
      "cell_type": "markdown",
      "source": [
        "Let's compute Theta_0, i.e. the starting kernel on the trainset:\n"
      ]
    },
    {
      "metadata": {
        "id": "vAglaGl1_hfN",
        "colab_type": "code",
        "outputId": "1d003587-6915-4eee-a486-e3edc2c2b1a1",
        "colab": {
          "base_uri": "https://localhost:8080/",
          "height": 52
        }
      },
      "cell_type": "code",
      "source": [
        "%%time \n",
        "def compute_theta_0(grad_list):\n",
        "  n = len(grad_list)  \n",
        "  theta_0 = torch.zeros((n,n))\n",
        "  for i in range(n):\n",
        "    grad_i = grad_list[i]\n",
        "    for j in range(i+1):\n",
        "      grad_j = grad_list[j]\n",
        "      theta_0[i, j] = sum([torch.sum(torch.mul(grad_i[u], grad_j[u])) for u in range(len(grad_j))])\n",
        "      theta_0[j, i] = theta_0[i, j]\n",
        "      \n",
        "  return(theta_0)"
      ],
      "execution_count": 16,
      "outputs": [
        {
          "output_type": "stream",
          "text": [
            "CPU times: user 5 µs, sys: 2 µs, total: 7 µs\n",
            "Wall time: 11.4 µs\n"
          ],
          "name": "stdout"
        }
      ]
    },
    {
      "metadata": {
        "id": "r0qi1gPCNtaA",
        "colab_type": "code",
        "outputId": "3e04e28f-13d9-4b6f-e538-2bdfcecca1b9",
        "colab": {
          "base_uri": "https://localhost:8080/",
          "height": 86
        }
      },
      "cell_type": "code",
      "source": [
        "theta_0 = compute_theta_0(grad_list)\n",
        "theta_0"
      ],
      "execution_count": 17,
      "outputs": [
        {
          "output_type": "execute_result",
          "data": {
            "text/plain": [
              "tensor([[0.2063, 0.0967, 0.0427, 0.0544],\n",
              "        [0.0967, 0.2939, 0.0592, 0.0678],\n",
              "        [0.0427, 0.0592, 0.4426, 0.1400],\n",
              "        [0.0544, 0.0678, 0.1400, 0.5862]])"
            ]
          },
          "metadata": {
            "tags": []
          },
          "execution_count": 17
        }
      ]
    },
    {
      "metadata": {
        "id": "YCN2l1ZicK1m",
        "colab_type": "text"
      },
      "cell_type": "markdown",
      "source": [
        "Try to reorganize the gradients in the above list, and obtain a tensor. The following function takes the grad_list list and unpacks it into a tensor of shape `(n_train_points, n_parameters)`."
      ]
    },
    {
      "metadata": {
        "id": "OWJicobhcJwP",
        "colab_type": "code",
        "colab": {}
      },
      "cell_type": "code",
      "source": [
        "def unpack_gradients(grad_list):\n",
        "  final_tensor = torch.tensor([])\n",
        "  for i in range(len(grad_list)):\n",
        "    tmp = torch.tensor([]*len(grad_list))\n",
        "    for j in range(len(grad_list[0])):\n",
        "      tmp = torch.cat((tmp, grad_list[i][j].reshape(-1)))\n",
        "\n",
        "    if final_tensor.nelement()==0:\n",
        "      final_tensor = tmp.clone().detach().reshape(1, -1)\n",
        "    else: \n",
        "      final_tensor = torch.cat((final_tensor, tmp.reshape(1, -1)))\n",
        "  return(final_tensor)"
      ],
      "execution_count": 0,
      "outputs": []
    },
    {
      "metadata": {
        "id": "Q5lkA7epjGZe",
        "colab_type": "code",
        "outputId": "004a26ff-74df-4f24-b28c-1972c673ec39",
        "colab": {
          "base_uri": "https://localhost:8080/",
          "height": 52
        }
      },
      "cell_type": "code",
      "source": [
        "%%time\n",
        "grad_tensor = unpack_gradients(grad_list)\n",
        "grad_tensor.shape"
      ],
      "execution_count": 19,
      "outputs": [
        {
          "output_type": "stream",
          "text": [
            "CPU times: user 551 µs, sys: 1.19 ms, total: 1.74 ms\n",
            "Wall time: 5.97 ms\n"
          ],
          "name": "stdout"
        }
      ]
    },
    {
      "metadata": {
        "id": "118Qqz-E_PGT",
        "colab_type": "text"
      },
      "cell_type": "markdown",
      "source": [
        "We are now ready to compute the dynamics of the weights. I need the eigenvalue decomposition of $\\Theta_0$ to compute its exponential\n",
        "\n"
      ]
    },
    {
      "metadata": {
        "id": "pGlzaGgisXQN",
        "colab_type": "code",
        "colab": {}
      },
      "cell_type": "code",
      "source": [
        "def unpack_weights(weights_list):\n",
        "  tmp = torch.tensor([]).to(\"cuda\" if use_cuda else \"cpu\")\n",
        "  for j in range(len(weights_list)):\n",
        "    tmp = torch.cat((tmp, weights_list[j].reshape(-1)))\n",
        "\n",
        "  return(tmp)"
      ],
      "execution_count": 0,
      "outputs": []
    },
    {
      "metadata": {
        "id": "h9qbN92Pmn3c",
        "colab_type": "code",
        "colab": {}
      },
      "cell_type": "code",
      "source": [
        "def weight_analytical_evolution_MSE(t, lr, theta_0, initial_train, target_data, grad_tensor): \n",
        "  # compute the analytical evolution of the weights using the equation 9 in the linearized network paper. \n",
        "  # This is valid for MSE loss. \n",
        "  \n",
        "  # t -> time after you want to consider the weights\n",
        "  # lr -> learning rate\n",
        "  # initial_train -> prediction using the initial value of the network. \n",
        "  # target data -> ground truth of the training points\n",
        "  # grad_tensor -> tensor containing the gradients with respect to the parameters \n",
        "  # of the network that you want to consider, computed in all the training points. \n",
        "  # Shape `(n_train_points, n_parameters)`\n",
        "\n",
        "  \n",
        "  # first compute the exponential of the matrix (using eigendecomposition): \n",
        "  lam, P = eig(theta_0)  # eig decomposition\n",
        "  lam = lam.astype(dtype = 'float64')\n",
        "\n",
        "  theta_0_inv = np.dot(P, np.dot(np.diag(lam**(-1)), P.transpose())) \n",
        "  \n",
        "  exp_matrix = np.dot(P, np.dot(np.diag(np.exp(-lr * t * lam)), P.transpose()))  # I am using np arrays, not torch tensors\n",
        "\n",
        "  # now perform all the matrix multiplications from right to left (more efficient):\n",
        "  weights = np.dot(np.eye(lam.size) - exp_matrix, (initial_train - target_data).cpu().detach().numpy())\n",
        "  weights = np.dot(theta_0_inv, weights)\n",
        "  weights = - np.dot(grad_tensor.transpose(1,0), weights)\n",
        "\n",
        "  return(weights)"
      ],
      "execution_count": 0,
      "outputs": []
    },
    {
      "metadata": {
        "id": "4cdPqN4M2-RJ",
        "colab_type": "text"
      },
      "cell_type": "markdown",
      "source": [
        "Extract the initial weights "
      ]
    },
    {
      "metadata": {
        "id": "YswaTa5A294Y",
        "colab_type": "code",
        "colab": {}
      },
      "cell_type": "code",
      "source": [
        "weights_initial_GD = list(net.parameters())\n",
        "weights_initial_GD = unpack_weights(weights_initial_GD).detach().cpu().numpy()"
      ],
      "execution_count": 0,
      "outputs": []
    },
    {
      "metadata": {
        "id": "OLktGvcoqKFT",
        "colab_type": "code",
        "colab": {}
      },
      "cell_type": "code",
      "source": [
        "t = 0  # time after which you want to see the weights. \n",
        "lr = 1  # learning rate"
      ],
      "execution_count": 0,
      "outputs": []
    },
    {
      "metadata": {
        "id": "Ab6xHS1Ln7wF",
        "colab_type": "code",
        "outputId": "380ef079-e988-477b-fc2f-a825bedfe11e",
        "colab": {
          "base_uri": "https://localhost:8080/",
          "height": 52
        }
      },
      "cell_type": "code",
      "source": [
        "weights_analytical = weight_analytical_evolution_MSE(t, lr, theta_0, initial_train, target_data, grad_tensor) + weights_initial_GD"
      ],
      "execution_count": 24,
      "outputs": [
        {
          "output_type": "stream",
          "text": [
            "/usr/local/lib/python3.6/dist-packages/ipykernel_launcher.py:16: ComplexWarning: Casting complex values to real discards the imaginary part\n",
            "  app.launch_new_instance()\n"
          ],
          "name": "stderr"
        }
      ]
    },
    {
      "metadata": {
        "id": "BHdW8g5mtIb9",
        "colab_type": "text"
      },
      "cell_type": "markdown",
      "source": [
        "Take a random subset of weights and see if we recover the starting weights with the analytical evolution: "
      ]
    },
    {
      "metadata": {
        "id": "UGbuAF5DtbjR",
        "colab_type": "code",
        "colab": {}
      },
      "cell_type": "code",
      "source": [
        "random_indices = np.linspace(0, len(weights_analytical)-1, 10).astype('int')"
      ],
      "execution_count": 0,
      "outputs": []
    },
    {
      "metadata": {
        "id": "DpKa4WSY4D28",
        "colab_type": "code",
        "outputId": "32cf58f7-9b90-4846-c00e-c7ef2386944b",
        "colab": {
          "base_uri": "https://localhost:8080/",
          "height": 69
        }
      },
      "cell_type": "code",
      "source": [
        "weights_initial_GD[random_indices]"
      ],
      "execution_count": 26,
      "outputs": [
        {
          "output_type": "execute_result",
          "data": {
            "text/plain": [
              "array([ 1.2505722 , -0.8989919 ,  1.734211  ,  1.5807228 , -0.74485874,\n",
              "        0.76262647, -0.44254622, -0.20101683,  0.7403318 ,  0.15272294],\n",
              "      dtype=float32)"
            ]
          },
          "metadata": {
            "tags": []
          },
          "execution_count": 26
        }
      ]
    },
    {
      "metadata": {
        "id": "LcnLy8J430vQ",
        "colab_type": "code",
        "outputId": "420ffd4f-8ba6-4f21-e91c-7b6138f2c9f0",
        "colab": {
          "base_uri": "https://localhost:8080/",
          "height": 367
        }
      },
      "cell_type": "code",
      "source": [
        "plt.plot(weights_initial_GD[random_indices], weights_initial_GD[random_indices], \"o\")\n",
        "plt.plot(plt.xlim(), plt.xlim(), ls=\"--\", c=\".3\")\n"
      ],
      "execution_count": 27,
      "outputs": [
        {
          "output_type": "execute_result",
          "data": {
            "text/plain": [
              "[<matplotlib.lines.Line2D at 0x7f1f56783b38>]"
            ]
          },
          "metadata": {
            "tags": []
          },
          "execution_count": 27
        },
        {
          "output_type": "display_data",
          "data": {
            "image/png": "[encoded data removed]",
            "text/plain": [
              "<Figure size 576x396 with 1 Axes>"
            ]
          },
          "metadata": {
            "tags": []
          }
        }
      ]
    },
    {
      "metadata": {
        "id": "CbiQzRpBqbH7",
        "colab_type": "text"
      },
      "cell_type": "markdown",
      "source": [
        "### Compare the analytical expression of the weights to the actual training of the network."
      ]
    },
    {
      "metadata": {
        "id": "NlA0the-tNWH",
        "colab_type": "text"
      },
      "cell_type": "markdown",
      "source": [
        "Train the net:"
      ]
    },
    {
      "metadata": {
        "id": "yUtQcSzfrjJG",
        "colab_type": "code",
        "colab": {}
      },
      "cell_type": "code",
      "source": [
        "n_epochs = 10000"
      ],
      "execution_count": 0,
      "outputs": []
    },
    {
      "metadata": {
        "id": "xtETJsSurCNi",
        "colab_type": "code",
        "outputId": "92909f2a-23e7-4204-af45-8f9309cbbe94",
        "colab": {
          "base_uri": "https://localhost:8080/",
          "height": 52
        }
      },
      "cell_type": "code",
      "source": [
        "%%time\n",
        "train_net(net, n_epochs, input_data, target_data)"
      ],
      "execution_count": 29,
      "outputs": [
        {
          "output_type": "stream",
          "text": [
            "CPU times: user 23.7 s, sys: 1.09 s, total: 24.8 s\n",
            "Wall time: 25.1 s\n"
          ],
          "name": "stdout"
        }
      ]
    },
    {
      "metadata": {
        "id": "SB1eR45rsEmE",
        "colab_type": "code",
        "colab": {}
      },
      "cell_type": "code",
      "source": [
        "weights_GD = list(net.parameters())\n",
        "weights_GD = unpack_weights(weights_GD).detach().cpu().numpy()"
      ],
      "execution_count": 0,
      "outputs": []
    },
    {
      "metadata": {
        "id": "rfWptc5340od",
        "colab_type": "text"
      },
      "cell_type": "markdown",
      "source": [
        "Analytical evolution:"
      ]
    },
    {
      "metadata": {
        "colab_type": "code",
        "outputId": "ff069354-d6cd-46d7-dc47-4c14b34c2d74",
        "id": "xKv2cvNx40om",
        "colab": {
          "base_uri": "https://localhost:8080/",
          "height": 52
        }
      },
      "cell_type": "code",
      "source": [
        "weights_analytical = weight_analytical_evolution_MSE(n_epochs, lr, theta_0, initial_train, target_data, grad_tensor) + weights_initial_GD"
      ],
      "execution_count": 31,
      "outputs": [
        {
          "output_type": "stream",
          "text": [
            "/usr/local/lib/python3.6/dist-packages/ipykernel_launcher.py:16: ComplexWarning: Casting complex values to real discards the imaginary part\n",
            "  app.launch_new_instance()\n"
          ],
          "name": "stderr"
        }
      ]
    },
    {
      "metadata": {
        "id": "04g4132Rueo3",
        "colab_type": "code",
        "outputId": "d6b8b166-b7fe-40d6-fd70-9be278b8e0c7",
        "colab": {
          "base_uri": "https://localhost:8080/",
          "height": 364
        }
      },
      "cell_type": "code",
      "source": [
        "plt.plot(weights_GD[random_indices], weights_analytical[random_indices], \"o\")\n",
        "plt.plot(plt.xlim(), plt.xlim(), ls=\"--\", c=\".3\")\n"
      ],
      "execution_count": 32,
      "outputs": [
        {
          "output_type": "execute_result",
          "data": {
            "text/plain": [
              "[<matplotlib.lines.Line2D at 0x7f09352569b0>]"
            ]
          },
          "metadata": {
            "tags": []
          },
          "execution_count": 32
        },
        {
          "output_type": "display_data",
          "data": {
            "image/png": "[encoded data removed]",
            "text/plain": [
              "<Figure size 576x396 with 1 Axes>"
            ]
          },
          "metadata": {
            "tags": []
          }
        }
      ]
    },
    {
      "metadata": {
        "id": "F3v8GNJw55WY",
        "colab_type": "text"
      },
      "cell_type": "markdown",
      "source": [
        "See if the weights actually changed at all during training: they do not change much!"
      ]
    },
    {
      "metadata": {
        "id": "2_lk-9Tz586f",
        "colab_type": "code",
        "outputId": "46d0d5ae-b3e2-4786-df39-8f14f96db82c",
        "colab": {
          "base_uri": "https://localhost:8080/",
          "height": 364
        }
      },
      "cell_type": "code",
      "source": [
        "plt.plot(weights_GD[random_indices], weights_initial_GD[random_indices], \"o\")\n",
        "plt.plot(plt.xlim(), plt.xlim(), ls=\"--\", c=\".3\")"
      ],
      "execution_count": 33,
      "outputs": [
        {
          "output_type": "execute_result",
          "data": {
            "text/plain": [
              "[<matplotlib.lines.Line2D at 0x7f0931130550>]"
            ]
          },
          "metadata": {
            "tags": []
          },
          "execution_count": 33
        },
        {
          "output_type": "display_data",
          "data": {
            "image/png": "[encoded data removed]",
            "text/plain": [
              "<Figure size 576x396 with 1 Axes>"
            ]
          },
          "metadata": {
            "tags": []
          }
        }
      ]
    },
    {
      "metadata": {
        "id": "h96fnpfVaxaK",
        "colab_type": "text"
      },
      "cell_type": "markdown",
      "source": [
        "### Compute the evolution of the prediction on the trainset:"
      ]
    },
    {
      "metadata": {
        "id": "0G-5NIkka2wl",
        "colab_type": "code",
        "colab": {}
      },
      "cell_type": "code",
      "source": [
        "def prediction_train_analytical_evolution_MSE(t, lr, theta_0, initial_train, target_data): \n",
        "  # compute the analytical evolution of the predictions on the test set using equation 10 in the linearized network paper. \n",
        "  # This is valid for MSE loss. \n",
        "  \n",
        "  # t -> time after you want to consider the weights\n",
        "  # lr -> learning rate\n",
        "  # initial_train -> prediction using the initial value of the network. \n",
        "  # target data -> ground truth of the training points\n",
        "  \n",
        "  # first compute the exponential of the matrix (using eigendecomposition): \n",
        "  lam, P = eig(theta_0)  # eig decomposition\n",
        "  lam = lam.astype(dtype = 'float64')\n",
        "\n",
        "  exp_matrix = np.dot(P, np.dot(np.diag(np.exp(-lr * t * lam)), P.transpose()))  # I am using np arrays, not torch tensors\n",
        "\n",
        "  # now perform all the matrix multiplications from right to left (more efficient):\n",
        "  pred = target_data.cpu().numpy() + np.dot(exp_matrix, (initial_train - target_data).cpu().detach().numpy())\n",
        "  \n",
        "  return(pred)"
      ],
      "execution_count": 0,
      "outputs": []
    },
    {
      "metadata": {
        "id": "N5EucKWebceM",
        "colab_type": "text"
      },
      "cell_type": "markdown",
      "source": [
        "### Compute the evolution on the test set. For this, you also need the testvtrain kernel"
      ]
    },
    {
      "metadata": {
        "id": "13YW7O9KbnqN",
        "colab_type": "code",
        "colab": {}
      },
      "cell_type": "code",
      "source": [
        "def prediction_test_analytical_evolution_MSE(t, lr, theta_0, theta_0_test, initial_train, initial_test, target_data): \n",
        "  # compute the analytical evolution of the predictions on the test set using equation 10 in the linearized network paper. \n",
        "  # This is valid for MSE loss. \n",
        "  \n",
        "  # t -> time after you want to consider the weights\n",
        "  # lr -> learning rate\n",
        "  # initial_train -> prediction using the initial value of the network. \n",
        "  # target data -> ground truth of the training points\n",
        "  \n",
        "  # first compute the exponential of the matrix (using eigendecomposition): \n",
        "  lam, P = eig(theta_0)  # eig decomposition\n",
        "  lam = lam.astype(dtype = 'float64')\n",
        "  \n",
        "  theta_0_inv = np.dot(P, np.dot(np.diag(lam**(-1)), P.transpose())) \n",
        "  \n",
        "  exp_matrix = np.dot(P, np.dot(np.diag(np.exp(-lr * t * lam)), P.transpose()))  # I am using np arrays, not torch tensors\n",
        "\n",
        "  # now perform all the matrix multiplications from right to left (more efficient):\n",
        "  pred = np.dot(np.eye(lam.size) - exp_matrix, (initial_train - target_data).cpu().detach().numpy())\n",
        "  pred = np.dot(theta_0_inv, pred)\n",
        "  pred = np.dot(theta_0_test , pred)\n",
        "  pred = initial_test.detach().cpu().numpy().reshape(-1) - pred\n",
        "\n",
        "  return(pred)"
      ],
      "execution_count": 0,
      "outputs": []
    },
    {
      "metadata": {
        "id": "lIkNEzTU0fRU",
        "colab_type": "text"
      },
      "cell_type": "markdown",
      "source": [
        "## Next step is reproducing plots as in Fig. 4 in the linearized network paper, where you see the evolution of the weights and predictions during training.\n",
        "\n",
        "Before running this, you need again to initialize the network and compute all the quantities at starting time. "
      ]
    },
    {
      "metadata": {
        "colab_type": "code",
        "id": "iSIY7mv8OH7X",
        "colab": {}
      },
      "cell_type": "code",
      "source": [
        "n_width = 1000\n",
        "# instanciate network\n",
        "net = FourLayersNet(n_width)\n",
        "if use_cuda:\n",
        "  net.cuda()"
      ],
      "execution_count": 0,
      "outputs": []
    },
    {
      "metadata": {
        "colab_type": "code",
        "id": "Bp874EfuOH7b",
        "colab": {}
      },
      "cell_type": "code",
      "source": [
        "initial_train = net(input_data).reshape(-1) # this acts of f_0. Reshape removes the dummy dimension.\n",
        "initial_test = net(test_data)"
      ],
      "execution_count": 0,
      "outputs": []
    },
    {
      "metadata": {
        "colab_type": "code",
        "id": "6pkGt3qROH7l",
        "colab": {
          "base_uri": "https://localhost:8080/",
          "height": 52
        },
        "outputId": "fd19c2b6-40ee-4339-9d80-259ec2193608"
      },
      "cell_type": "code",
      "source": [
        "%%time\n",
        "grad_list = compute_grad_list(gamma_data)"
      ],
      "execution_count": 164,
      "outputs": [
        {
          "output_type": "stream",
          "text": [
            "CPU times: user 20.3 ms, sys: 2.66 ms, total: 23 ms\n",
            "Wall time: 25.5 ms\n"
          ],
          "name": "stdout"
        }
      ]
    },
    {
      "metadata": {
        "colab_type": "code",
        "outputId": "79f83355-464e-48c4-ccae-c20b68900dd3",
        "id": "BSnzzEgfOH7v",
        "colab": {
          "base_uri": "https://localhost:8080/",
          "height": 52
        }
      },
      "cell_type": "code",
      "source": [
        "%%time\n",
        "grad_tensor = unpack_gradients(grad_list)\n",
        "n_parameters = grad_tensor.shape[1]"
      ],
      "execution_count": 165,
      "outputs": [
        {
          "output_type": "stream",
          "text": [
            "CPU times: user 72.9 ms, sys: 6.35 ms, total: 79.3 ms\n",
            "Wall time: 82.1 ms\n"
          ],
          "name": "stdout"
        }
      ]
    },
    {
      "metadata": {
        "id": "dyRtWsvQhOt2",
        "colab_type": "text"
      },
      "cell_type": "markdown",
      "source": [
        "Use the function to compute both kernels. `theta_0_test` is the kernel between test data and train data. "
      ]
    },
    {
      "metadata": {
        "id": "ZVJ6LSrSgsiD",
        "colab_type": "code",
        "colab": {
          "base_uri": "https://localhost:8080/",
          "height": 225
        },
        "outputId": "45080f9c-d308-4be7-d065-0d66ae85006e"
      },
      "cell_type": "code",
      "source": [
        "%%time\n",
        "theta_0_test, theta_0 = kernel_mats(net, gamma_data, gamma_test, use_cuda=use_cuda, kernels='both')  "
      ],
      "execution_count": 166,
      "outputs": [
        {
          "output_type": "stream",
          "text": [
            "K_testvtrain is 10% complete\n",
            "K_testvtrain is 20% complete\n",
            "K_testvtrain is 30% complete\n",
            "K_testvtrain is 40% complete\n",
            "K_testvtrain is 50% complete\n",
            "K_testvtrain is 60% complete\n",
            "K_testvtrain is 70% complete\n",
            "K_testvtrain is 80% complete\n",
            "K_testvtrain is 90% complete\n",
            "K_testvtrain is 100% complete\n",
            "CPU times: user 64.6 ms, sys: 13.2 ms, total: 77.8 ms\n",
            "Wall time: 81.2 ms\n"
          ],
          "name": "stdout"
        }
      ]
    },
    {
      "metadata": {
        "id": "90zY_8QSQ6wk",
        "colab_type": "code",
        "colab": {
          "base_uri": "https://localhost:8080/",
          "height": 52
        },
        "outputId": "f0493d2f-55b5-4f15-9c8d-3ec187e726d8"
      },
      "cell_type": "code",
      "source": [
        "%%time\n",
        "# extract the initial weights from the net\n",
        "weights_initial_GD = list(net.parameters())\n",
        "weights_initial_GD = unpack_weights(weights_initial_GD).detach().cpu().numpy()"
      ],
      "execution_count": 167,
      "outputs": [
        {
          "output_type": "stream",
          "text": [
            "CPU times: user 4.54 ms, sys: 783 µs, total: 5.32 ms\n",
            "Wall time: 5.78 ms\n"
          ],
          "name": "stdout"
        }
      ]
    },
    {
      "metadata": {
        "id": "WgNLcIX8OYIB",
        "colab_type": "text"
      },
      "cell_type": "markdown",
      "source": [
        "Now set the max time horizon and the stepsize. You also need to select the position of the elements of which you will keep track. "
      ]
    },
    {
      "metadata": {
        "colab_type": "code",
        "id": "C6JMGaTKXvcn",
        "colab": {}
      },
      "cell_type": "code",
      "source": [
        "lr = 1\n",
        "t_max = 100\n",
        "t_step = 1\n",
        "n_weights_to_track = 10\n",
        "\n",
        "random_indices = np.random.randint(0, n_parameters, n_weights_to_track)\n",
        "t_list = np.arange(0, t_max, t_step)\n",
        "\n",
        "weights_GD_evolution = np.zeros((n_weights_to_track, len(t_list)))\n",
        "weights_analytical_evolution = np.zeros((n_weights_to_track, len(t_list)))\n",
        "\n",
        "preds_train_GD_evolution = np.zeros((n_train, len(t_list)))\n",
        "preds_train_analytical_evolution = np.zeros((n_train, len(t_list)))\n",
        "\n",
        "preds_test_GD_evolution = np.zeros((n_test, len(t_list)))\n",
        "preds_test_analytical_evolution = np.zeros((n_test, len(t_list)))"
      ],
      "execution_count": 0,
      "outputs": []
    },
    {
      "metadata": {
        "id": "5eeueZJyO970",
        "colab_type": "text"
      },
      "cell_type": "markdown",
      "source": [
        "Every iteration, you train the network for `t_step` and compute the evolution of the weights after that amount of steps, as well as the prediction on the train set. Note that actually we are computing the change in the weights, and not the weigthts themselves . "
      ]
    },
    {
      "metadata": {
        "colab_type": "code",
        "outputId": "19d29ba3-f48e-4a01-cd53-6a58af33f522",
        "id": "GbVnxNJ3Xvc8",
        "colab": {
          "base_uri": "https://localhost:8080/",
          "height": 139
        }
      },
      "cell_type": "code",
      "source": [
        "training_time = 0\n",
        "analytical_time = 0\n",
        "\n",
        "for i, t in tqdm(enumerate(t_list)): \n",
        "  \n",
        "  # train network\n",
        "  start_time = time.time()\n",
        "  train_net(net, t_step, input_data, target_data, lr=lr)\n",
        "  \n",
        "  # extract_weights\n",
        "  weights_GD = list(net.parameters())\n",
        "  weights_GD = unpack_weights(weights_GD).detach().cpu().numpy()\n",
        "  \n",
        "  # save the interesting ones: \n",
        "  weights_GD_evolution[:, i] = weights_GD[random_indices] - weights_initial_GD[random_indices]\n",
        "\n",
        "  # compute the preciction on the trainset at this point of the training: \n",
        "  preds_train_GD_evolution[:, i] = net(input_data).detach().cpu().reshape(-1)\n",
        "  \n",
        "  # same on the testset: \n",
        "  preds_test_GD_evolution[:, i] = net(test_data).detach().cpu().reshape(-1)  \n",
        "  training_time += time.time() - start_time\n",
        "  \n",
        "      \n",
        "  # now compute the analytical evolution: \n",
        "  # this is extremely efficient as at every step we compute the eigendecomposition and some matrix multiplication that remain the same with different t, but I don't care up to now. \n",
        "  # Moreover, the 3 different functions repeat the same operation. But actually the analytical computation is much faster than the GD one. \n",
        "  start_time = time.time()\n",
        "  weights_analytical_evolution[:, i] = weight_analytical_evolution_MSE(t, lr, theta_0, initial_train, target_data, grad_tensor[:, random_indices]) \n",
        "  preds_train_analytical_evolution[:, i] = prediction_train_analytical_evolution_MSE(t, lr, theta_0, initial_train, target_data)\n",
        "  preds_test_analytical_evolution[:, i] = prediction_test_analytical_evolution_MSE(t, lr, theta_0, theta_0_test, initial_train, initial_test, target_data)\n",
        "  analytical_time += time.time() - start_time\n",
        "\n",
        "print(\"\\nTraining time: {:.2f}, analytical computation time: {:.2f}.\".format(training_time, analytical_time))"
      ],
      "execution_count": 173,
      "outputs": [
        {
          "output_type": "stream",
          "text": [
            "0it [00:00, ?it/s]/usr/local/lib/python3.6/dist-packages/ipykernel_launcher.py:16: ComplexWarning: Casting complex values to real discards the imaginary part\n",
            "  app.launch_new_instance()\n",
            "/usr/local/lib/python3.6/dist-packages/ipykernel_launcher.py:12: ComplexWarning: Casting complex values to real discards the imaginary part\n",
            "  if sys.path[0] == '':\n",
            "100it [00:01, 81.95it/s]"
          ],
          "name": "stderr"
        },
        {
          "output_type": "stream",
          "text": [
            "\n",
            "Training time: 1.03, analytical computation time: 0.16.\n"
          ],
          "name": "stdout"
        },
        {
          "output_type": "stream",
          "text": [
            "\n"
          ],
          "name": "stderr"
        }
      ]
    },
    {
      "metadata": {
        "id": "UK-uciqhR4R2",
        "colab_type": "text"
      },
      "cell_type": "markdown",
      "source": [
        "Now generate plot. First cell defines a color map from which extract colors"
      ]
    },
    {
      "metadata": {
        "id": "odk81Zx_sHSV",
        "colab_type": "code",
        "colab": {}
      },
      "cell_type": "code",
      "source": [
        "cmap = plt.cm.nipy_spectral"
      ],
      "execution_count": 0,
      "outputs": []
    },
    {
      "metadata": {
        "id": "ezMCYO45vyRw",
        "colab_type": "code",
        "colab": {
          "base_uri": "https://localhost:8080/",
          "height": 354
        },
        "outputId": "d55e5b20-812d-4774-c326-e1928e65c67d"
      },
      "cell_type": "code",
      "source": [
        "alpha = 0.7\n",
        "\n",
        "fig, ax = plt.subplots(1,3, figsize=(18,5))\n",
        "\n",
        "for i in range(n_weights_to_track):  \n",
        "  ax[0].set_title(r\"Weight changes $(\\omega_t)$\")\n",
        "  ax[0].set_xlabel(r\"$t$\")\n",
        "  ax[0].plot(t_list, weights_analytical_evolution[i], \"--\", color=cmap(i/n_weights_to_track), alpha=alpha)\n",
        "  ax[0].plot(t_list, weights_GD_evolution[i], color=cmap(i/n_weights_to_track), alpha=alpha)\n",
        "  \n",
        "  \n",
        "for i in range(n_train):\n",
        "  ax[1].set_title(r\"Train output\")\n",
        "  ax[1].set_xlabel(r\"$t$\")\n",
        "  ax[1].plot(t_list, preds_train_analytical_evolution[i], \"--\", color=cmap(i/n_train), alpha=alpha)\n",
        "  ax[1].plot(t_list, preds_train_GD_evolution[i], color=cmap(i/n_train), alpha=alpha)\n",
        "  \n",
        "for i in range(n_test):\n",
        "  ax[2].set_title(r\"Test output\")\n",
        "  ax[2].set_xlabel(r\"$t$\")\n",
        "  ax[2].plot(t_list, preds_test_analytical_evolution[i], \"--\", color=cmap(i/n_test), alpha=alpha)\n",
        "  ax[2].plot(t_list, preds_test_GD_evolution[i], color=cmap(i/n_test), alpha=alpha)\n",
        "  \n",
        "  \n",
        "#ax[0].legend()"
      ],
      "execution_count": 175,
      "outputs": [
        {
          "output_type": "display_data",
          "data": {
            "image/png": "[encoded data removed]",
            "text/plain": [
              "<Figure size 1296x360 with 3 Axes>"
            ]
          },
          "metadata": {
            "tags": []
          }
        }
      ]
    },
    {
      "metadata": {
        "id": "tNHuj3hLw6SV",
        "colab_type": "code",
        "colab": {}
      },
      "cell_type": "code",
      "source": [
        ""
      ],
      "execution_count": 0,
      "outputs": []
    }
  ]
}