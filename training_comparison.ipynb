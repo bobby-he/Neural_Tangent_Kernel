{
  "nbformat": 4,
  "nbformat_minor": 0,
  "metadata": {
    "colab": {
      "name": "training_comparison.ipynb",
      "version": "0.3.2",
      "provenance": [],
      "collapsed_sections": [],
      "include_colab_link": true
    },
    "kernelspec": {
      "name": "python3",
      "display_name": "Python 3"
    },
    "accelerator": "GPU"
  },
  "cells": [
    {
      "cell_type": "markdown",
      "metadata": {
        "id": "view-in-github",
        "colab_type": "text"
      },
      "source": [
        "<a href=\"https://colab.research.google.com/github/bobby-he/Neural_Tangent_Kernel/blob/master/training_comparison.ipynb\" target=\"_parent\"><img src=\"https://colab.research.google.com/assets/colab-badge.svg\" alt=\"Open In Colab\"/></a>"
      ]
    },
    {
      "metadata": {
        "id": "dRJ516qr4hzS",
        "colab_type": "text"
      },
      "cell_type": "markdown",
      "source": [
        "### Compare the training in a NN through backprop and using kernel gradients "
      ]
    },
    {
      "metadata": {
        "id": "z3lVsGbsVi2j",
        "colab_type": "code",
        "outputId": "0eb8fdcb-1bd4-44a5-de5c-bbef2e59bb78",
        "colab": {
          "base_uri": "https://localhost:8080/",
          "height": 34
        }
      },
      "cell_type": "code",
      "source": [
        "!git clone https://github.com/bobby-he/Neural_Tangent_Kernel.git"
      ],
      "execution_count": 1,
      "outputs": [
        {
          "output_type": "stream",
          "text": [
            "fatal: destination path 'Neural_Tangent_Kernel' already exists and is not an empty directory.\n"
          ],
          "name": "stdout"
        }
      ]
    },
    {
      "metadata": {
        "id": "eP_SEJZFVtiO",
        "colab_type": "code",
        "colab": {}
      },
      "cell_type": "code",
      "source": [
        "import numpy as np\n",
        "import matplotlib.pyplot as plt\n",
        "\n",
        "import torch\n",
        "import torch.nn as nn\n",
        "import torch.nn.functional as F\n",
        "import torch.optim as optim"
      ],
      "execution_count": 0,
      "outputs": []
    },
    {
      "metadata": {
        "id": "7i2HbFm6VzxU",
        "colab_type": "code",
        "colab": {}
      },
      "cell_type": "code",
      "source": [
        "import seaborn as sns\n",
        "sns.set()"
      ],
      "execution_count": 0,
      "outputs": []
    },
    {
      "metadata": {
        "id": "jqr3EQhjWEK8",
        "colab_type": "code",
        "colab": {}
      },
      "cell_type": "code",
      "source": [
        "from collections import OrderedDict"
      ],
      "execution_count": 0,
      "outputs": []
    },
    {
      "metadata": {
        "id": "EaQjWThJWJ5U",
        "colab_type": "code",
        "colab": {}
      },
      "cell_type": "code",
      "source": [
        "from Neural_Tangent_Kernel.src.NTK_net import LinearNeuralTangentKernel, FourLayersNet, train_net, circle_transform, variance_est, cpu_tuple"
      ],
      "execution_count": 0,
      "outputs": []
    },
    {
      "metadata": {
        "id": "RY7yF5IjXAju",
        "colab_type": "code",
        "colab": {}
      },
      "cell_type": "code",
      "source": [
        "import copy\n",
        "from google.colab import files"
      ],
      "execution_count": 0,
      "outputs": []
    },
    {
      "metadata": {
        "id": "rVE9SfeTWMXc",
        "colab_type": "code",
        "colab": {}
      },
      "cell_type": "code",
      "source": [
        "use_cuda = True if torch.cuda.is_available() else False"
      ],
      "execution_count": 0,
      "outputs": []
    },
    {
      "metadata": {
        "id": "tAZpJ_i8Xb0Q",
        "colab_type": "text"
      },
      "cell_type": "markdown",
      "source": [
        "### define net and data"
      ]
    },
    {
      "metadata": {
        "id": "GxYgsHkWcx5T",
        "colab_type": "code",
        "colab": {}
      },
      "cell_type": "code",
      "source": [
        "from matplotlib import animation, rc\n",
        "from IPython.display import HTML\n",
        "plt.rcParams['axes.prop_cycle'] = plt.cycler(color=plt.cm.Set2.colors)\n",
        "\n",
        "n_pts = 100\n",
        "# animate over some set of x, y\n",
        "gamma_vec = torch.tensor(np.linspace(-np.pi, np.pi, n_pts))\n",
        "circle_test = circle_transform(gamma_vec).cuda()\n",
        "gamma_data = torch.tensor(np.array([-2.2, -1, 1, 2.2]))\n",
        "target_data = torch.tensor(np.array([-0.4, -0.2, 0.3, 0.3])).float()\n",
        "input_data = circle_transform(gamma_data)\n",
        "# note mean_vec has length 100 so better to set n_pts=100\n",
        "mean_vec = np.load('Neural_Tangent_Kernel/data/mean_vec.npy').flatten()"
      ],
      "execution_count": 0,
      "outputs": []
    },
    {
      "metadata": {
        "id": "hyDjOFQT4Yfx",
        "colab_type": "text"
      },
      "cell_type": "markdown",
      "source": [
        "### define variables for kernel gradient"
      ]
    },
    {
      "metadata": {
        "id": "BVDUdMw94XN5",
        "colab_type": "code",
        "colab": {}
      },
      "cell_type": "code",
      "source": [
        "def kernel_leastsq_update(test_output, train_output, K_testvtrain, K_trainvtrain, train_target, n_steps = 1, learning_rate = 1): \n",
        "  test_output = test_output + np.matmul(K_testvtrain, train_target - train_output).flatten()\n",
        "  train_output = train_output + np.matmul(K_trainvtrain, train_target - train_output).flatten()\n",
        "  return test_output, train_output"
      ],
      "execution_count": 0,
      "outputs": []
    },
    {
      "metadata": {
        "id": "AH8IqtZY5BQE",
        "colab_type": "code",
        "colab": {}
      },
      "cell_type": "code",
      "source": [
        "n_width = 10000\n",
        "net = FourLayersNet(n_width)\n",
        "if use_cuda:\n",
        "  net.cuda()\n",
        "\n",
        "#train_net(net, 1000, input_data, target_data)\n"
      ],
      "execution_count": 0,
      "outputs": []
    },
    {
      "metadata": {
        "id": "FBAfw4686Uvl",
        "colab_type": "code",
        "colab": {}
      },
      "cell_type": "code",
      "source": [
        "grad_list = []\n",
        "for gamma in gamma_data:\n",
        "  circle_pt = circle_transform(gamma)\n",
        "  if use_cuda and torch.cuda.is_available():\n",
        "    circle_pt = circle_pt.cuda()\n",
        "  loss = net(circle_pt)\n",
        "  grad_list.append(cpu_tuple(torch.autograd.grad(loss,net.parameters(), retain_graph = True)))"
      ],
      "execution_count": 0,
      "outputs": []
    },
    {
      "metadata": {
        "id": "OFSbgNip6VbI",
        "colab_type": "code",
        "colab": {
          "base_uri": "https://localhost:8080/",
          "height": 226
        },
        "outputId": "b967581c-754f-4369-b143-a23d8b14de20"
      },
      "cell_type": "code",
      "source": [
        "%%time\n",
        "# K_testvtrain is kappa on p7 of NTK paper\n",
        "K_testvtrain = torch.zeros((n_pts,4))\n",
        "for i, gamma in enumerate(gamma_vec):\n",
        "  if i%10 == 0:\n",
        "    print('point {}'.format(i))\n",
        "  circle_pt = circle_transform(gamma)\n",
        "  if use_cuda and torch.cuda.is_available():\n",
        "    circle_pt = circle_pt.cuda()\n",
        "  loss = net(circle_pt)\n",
        "  grads = cpu_tuple(torch.autograd.grad(loss,net.parameters(), retain_graph = True)) # extract NN gradients \n",
        "  for j in range(len(grad_list)):\n",
        "    pt_grad = grad_list[j] # the gradients at the jth (out of 4) data point\n",
        "    K_testvtrain[i, j] = sum([torch.sum(torch.mul(grads[u], pt_grad[u])) for u in range(len(grads))])\n",
        "K_testvtrain = K_testvtrain.cpu().detach().numpy()"
      ],
      "execution_count": 12,
      "outputs": [
        {
          "output_type": "stream",
          "text": [
            "point 0\n",
            "point 10\n",
            "point 20\n",
            "point 30\n",
            "point 40\n",
            "point 50\n",
            "point 60\n",
            "point 70\n",
            "point 80\n",
            "point 90\n",
            "CPU times: user 3min 42s, sys: 5.75 s, total: 3min 47s\n",
            "Wall time: 3min 48s\n"
          ],
          "name": "stdout"
        }
      ]
    },
    {
      "metadata": {
        "id": "9ep0vO1E7dAy",
        "colab_type": "code",
        "colab": {}
      },
      "cell_type": "code",
      "source": [
        "# let's create Ktilde matrix from p7 of NTK paper\n",
        "K_trainvtrain = torch.zeros((4,4))\n",
        "for i in range(4):\n",
        "  grad_i = grad_list[i]\n",
        "  for j in range(i+1):\n",
        "    grad_j = grad_list[j]\n",
        "    K_trainvtrain[i, j] = sum([torch.sum(torch.mul(grad_i[u], grad_j[u])) for u in range(len(grad_j))])\n",
        "    K_trainvtrain[j, i] = K_trainvtrain[i, j]\n",
        "K_trainvtrain = K_trainvtrain.cpu().detach().numpy()"
      ],
      "execution_count": 0,
      "outputs": []
    },
    {
      "metadata": {
        "id": "SLQ4AwV14eEC",
        "colab_type": "text"
      },
      "cell_type": "markdown",
      "source": [
        "### generate animation"
      ]
    },
    {
      "metadata": {
        "id": "1FWkXiB-Lv-l",
        "colab_type": "code",
        "colab": {}
      },
      "cell_type": "code",
      "source": [
        "aasdfsdf=1\n",
        "bsadfasdf=2\n",
        "global aasdfsdf,bsadfasdf"
      ],
      "execution_count": 0,
      "outputs": []
    },
    {
      "metadata": {
        "id": "mosjxHe0c1qj",
        "colab_type": "code",
        "colab": {}
      },
      "cell_type": "code",
      "source": [
        "net1 = FourLayersNet(n_wid=1000, n_out=1).cuda()\n",
        "copynet1 = copy.deepcopy(net1)\n",
        "test_output_1 = net1(circle_test.cuda()).cpu().detach().numpy().flatten()\n",
        "train_output_1 = net1(input_data.cuda()).cpu().detach().numpy().flatten()\n",
        "\n",
        "net2 = FourLayersNet(n_wid=1000, n_out=1).cuda()\n",
        "copynet2 = copy.deepcopy(net2)\n",
        "test_output_2 = net2(circle_test.cuda()).cpu().detach().numpy().flatten()\n",
        "train_output_2 = net2(input_data.cuda()).cpu().detach().numpy().flatten()\n",
        "\n",
        "net3 = FourLayersNet(n_wid=1000, n_out=1).cuda()\n",
        "copynet3 = copy.deepcopy(net3)\n",
        "test_output_3 = net3(circle_test.cuda()).cpu().detach().numpy().flatten()\n",
        "train_output_3 = net3(input_data.cuda()).cpu().detach().numpy().flatten()\n",
        "\n",
        "net4 = FourLayersNet(n_wid=1000, n_out=1).cuda()\n",
        "copynet4 = copy.deepcopy(net4)\n",
        "test_output_4 = net4(circle_test.cuda()).cpu().detach().numpy().flatten()\n",
        "train_output_4 = net4(input_data.cuda()).cpu().detach().numpy().flatten()\n",
        "\n",
        "net5 = FourLayersNet(n_wid=1000, n_out=1).cuda()\n",
        "copynet5 = copy.deepcopy(net5)\n",
        "test_output_5 = net5(circle_test.cuda()).cpu().detach().numpy().flatten()\n",
        "train_output_5 = net5(input_data.cuda()).cpu().detach().numpy().flatten()\n",
        "\n",
        "global test_output_1, test_output_2, test_output_3, test_output_4, test_output_5\n",
        "global train_output_1, train_output_2, train_output_3, train_output_4, train_output_5\n",
        "\n",
        "if use_cuda:\n",
        "  input_data = input_data.cuda()\n",
        "  target_data = target_data.cuda()\n",
        "# First set up the figure, the axes, and the plot element\n",
        "fig, ax = plt.subplots()\n",
        "plt.close()\n",
        "ax.set_xlim(( -np.pi, np.pi))\n",
        "ax.set_ylim((-0.5, 0.5))\n",
        "ax.set_xlabel('$\\gamma$')\n",
        "ax.set_ylabel('$f_{ \\\\theta}(sin(y),cos(y))$')\n",
        "\n",
        "line0, = ax.plot([], [], lw=2, color = 'darkmagenta')\n",
        "line1, = ax.plot([], [], lw=1, linestyle = '--', alpha = 0.9, color = 'red')\n",
        "line2, = ax.plot([], [], lw=1, linestyle = '--', alpha = 0.9, color = 'green')\n",
        "line3, = ax.plot([], [], lw=1, linestyle = '--', alpha = 0.9, color = 'cyan')\n",
        "line4, = ax.plot([], [], lw=1, linestyle = '--', alpha = 0.9, color = 'gold')\n",
        "line5, = ax.plot([], [], lw=1, linestyle = '--', alpha = 0.9, color = 'darkorange')\n",
        "\n",
        "line1a, = ax.plot([], [], lw=1, linestyle = '--', alpha = 0.9, color = 'red')\n",
        "line2a, = ax.plot([], [], lw=1, linestyle = '--', alpha = 0.9, color = 'green')\n",
        "line3a, = ax.plot([], [], lw=1, linestyle = '--', alpha = 0.9, color = 'cyan')\n",
        "line4a, = ax.plot([], [], lw=1, linestyle = '--', alpha = 0.9, color = 'gold')\n",
        "line5a, = ax.plot([], [], lw=1, linestyle = '--', alpha = 0.9, color = 'darkorange')\n",
        "\n",
        "# initialization function: plot the background of each frame\n",
        "def init():   \n",
        "  line0.set_data(gamma_vec.numpy(), mean_vec)\n",
        "  return (line0,)\n",
        "  \n",
        "# animation function: this is called sequentially\n",
        "def animate(i):\n",
        "  j = 0\n",
        "  if i>2:\n",
        "    train_net(net1, 1, input_data, target_data)\n",
        "    train_net(net2, 1, input_data, target_data)\n",
        "    train_net(net3, 1, input_data, target_data)\n",
        "    train_net(net4, 1, input_data, target_data)\n",
        "    train_net(net5, 1, input_data, target_data)\n",
        "    j = i - 2\n",
        "  \n",
        "  if i == 0:\n",
        "    test_output_1 = copynet1(circle_test.cuda()).cpu().detach().numpy().flatten()\n",
        "    train_output_1 = copynet1(input_data.cuda()).cpu().detach().numpy().flatten()\n",
        "    \n",
        "    test_output_2 = copynet2(circle_test.cuda()).cpu().detach().numpy().flatten()\n",
        "    train_output_2 = copynet2(input_data.cuda()).cpu().detach().numpy().flatten()\n",
        "\n",
        "    test_output_3 = copynet3(circle_test.cuda()).cpu().detach().numpy().flatten()\n",
        "    train_output_3 = copynet3(input_data.cuda()).cpu().detach().numpy().flatten()\n",
        "    \n",
        "    test_output_4 = copynet4(circle_test.cuda()).cpu().detach().numpy().flatten()\n",
        "    train_output_4 = copynet4(input_data.cuda()).cpu().detach().numpy().flatten()\n",
        "    \n",
        "    test_output_5 = copynet5(circle_test.cuda()).cpu().detach().numpy().flatten()\n",
        "    train_output_5 = copynet5(input_data.cuda()).cpu().detach().numpy().flatten()\n",
        "  \n",
        "  test_output_1, train_output_1 = kernel_leastsq_update(test_output_1, train_output_1, K_testvtrain,\n",
        "                      K_trainvtrain, target_data.cpu().detach().numpy(), n_steps = 1, learning_rate = 1)\n",
        "  test_output_2, train_output_2 = kernel_leastsq_update(test_output_2, train_output_2, K_testvtrain,\n",
        "                      K_trainvtrain, target_data.cpu().detach().numpy(), n_steps = 1, learning_rate = 1)\n",
        "  \n",
        "  test_output_3, train_output_3 = kernel_leastsq_update(test_output_3, train_output_3, K_testvtrain,\n",
        "                      K_trainvtrain, target_data.cpu().detach().numpy(), n_steps = 1, learning_rate = 1)\n",
        "\n",
        "  test_output_4, train_output_4 = kernel_leastsq_update(test_output_4, train_output_4, K_testvtrain,\n",
        "                      K_trainvtrain, target_data.cpu().detach().numpy(), n_steps = 1, learning_rate = 1)\n",
        "  \n",
        "  test_output_5, train_output_5 = kernel_leastsq_update(test_output_5, train_output_5, K_testvtrain,\n",
        "                      K_trainvtrain, target_data.cpu().detach().numpy(), n_steps = 1, learning_rate = 1)\n",
        "  \n",
        "  line1.set_data(gamma_vec.numpy(), net1(circle_test).cpu().detach().numpy())\n",
        "  line2.set_data(gamma_vec.numpy(), net2(circle_test).cpu().detach().numpy())\n",
        "  line3.set_data(gamma_vec.numpy(), net3(circle_test).cpu().detach().numpy())\n",
        "  line4.set_data(gamma_vec.numpy(), net4(circle_test).cpu().detach().numpy())\n",
        "  line5.set_data(gamma_vec.numpy(), net5(circle_test).cpu().detach().numpy())\n",
        "  \n",
        "  line1a.set_data(gamma_vec.numpy(), test_output_1)\n",
        "  line2a.set_data(gamma_vec.numpy(), test_output_2)\n",
        "  line3a.set_data(gamma_vec.numpy(), test_output_3)\n",
        "  line4a.set_data(gamma_vec.numpy(), test_output_4)\n",
        "  line5a.set_data(gamma_vec.numpy(), test_output_5)\n",
        "  \n",
        "  ax.set_title('Epoch {}'.format(j))\n",
        "  return (line1, line2, line3, line4, line5, )\n",
        "\n",
        "anim = animation.FuncAnimation(fig, animate, init_func=init, frames=52, interval=150, blit=True)\n",
        "rc('animation', html='jshtml')"
      ],
      "execution_count": 0,
      "outputs": []
    },
    {
      "metadata": {
        "id": "MXtg093r0e-C",
        "colab_type": "text"
      },
      "cell_type": "markdown",
      "source": [
        "If you want to see the animation, call the next cell"
      ]
    },
    {
      "metadata": {
        "id": "mJm5kT3mPia2",
        "colab_type": "text"
      },
      "cell_type": "markdown",
      "source": [
        "the above needs work, write a class in order to avoid global variables"
      ]
    },
    {
      "metadata": {
        "id": "HI79l-Wa0d7i",
        "colab_type": "code",
        "outputId": "e16880e1-1f4d-4278-9dd1-15ecb61cfb0a",
        "colab": {
          "base_uri": "https://localhost:8080/",
          "height": 1008
        }
      },
      "cell_type": "code",
      "source": [
        "anim"
      ],
      "execution_count": 23,
      "outputs": [
        {
          "output_type": "error",
          "ename": "UnboundLocalError",
          "evalue": "ignored",
          "traceback": [
            "\u001b[0;31m---------------------------------------------------------------------------\u001b[0m",
            "\u001b[0;31mUnboundLocalError\u001b[0m                         Traceback (most recent call last)",
            "\u001b[0;32m/usr/local/lib/python3.6/dist-packages/IPython/core/formatters.py\u001b[0m in \u001b[0;36m__call__\u001b[0;34m(self, obj)\u001b[0m\n\u001b[1;32m    336\u001b[0m             \u001b[0mmethod\u001b[0m \u001b[0;34m=\u001b[0m \u001b[0mget_real_method\u001b[0m\u001b[0;34m(\u001b[0m\u001b[0mobj\u001b[0m\u001b[0;34m,\u001b[0m \u001b[0mself\u001b[0m\u001b[0;34m.\u001b[0m\u001b[0mprint_method\u001b[0m\u001b[0;34m)\u001b[0m\u001b[0;34m\u001b[0m\u001b[0;34m\u001b[0m\u001b[0m\n\u001b[1;32m    337\u001b[0m             \u001b[0;32mif\u001b[0m \u001b[0mmethod\u001b[0m \u001b[0;32mis\u001b[0m \u001b[0;32mnot\u001b[0m \u001b[0;32mNone\u001b[0m\u001b[0;34m:\u001b[0m\u001b[0;34m\u001b[0m\u001b[0;34m\u001b[0m\u001b[0m\n\u001b[0;32m--> 338\u001b[0;31m                 \u001b[0;32mreturn\u001b[0m \u001b[0mmethod\u001b[0m\u001b[0;34m(\u001b[0m\u001b[0;34m)\u001b[0m\u001b[0;34m\u001b[0m\u001b[0;34m\u001b[0m\u001b[0m\n\u001b[0m\u001b[1;32m    339\u001b[0m             \u001b[0;32mreturn\u001b[0m \u001b[0;32mNone\u001b[0m\u001b[0;34m\u001b[0m\u001b[0;34m\u001b[0m\u001b[0m\n\u001b[1;32m    340\u001b[0m         \u001b[0;32melse\u001b[0m\u001b[0;34m:\u001b[0m\u001b[0;34m\u001b[0m\u001b[0;34m\u001b[0m\u001b[0m\n",
            "\u001b[0;32m/usr/local/lib/python3.6/dist-packages/matplotlib/animation.py\u001b[0m in \u001b[0;36m_repr_html_\u001b[0;34m(self)\u001b[0m\n\u001b[1;32m   1402\u001b[0m             \u001b[0;32mreturn\u001b[0m \u001b[0mself\u001b[0m\u001b[0;34m.\u001b[0m\u001b[0mto_html5_video\u001b[0m\u001b[0;34m(\u001b[0m\u001b[0;34m)\u001b[0m\u001b[0;34m\u001b[0m\u001b[0;34m\u001b[0m\u001b[0m\n\u001b[1;32m   1403\u001b[0m         \u001b[0;32melif\u001b[0m \u001b[0mfmt\u001b[0m \u001b[0;34m==\u001b[0m \u001b[0;34m'jshtml'\u001b[0m\u001b[0;34m:\u001b[0m\u001b[0;34m\u001b[0m\u001b[0;34m\u001b[0m\u001b[0m\n\u001b[0;32m-> 1404\u001b[0;31m             \u001b[0;32mreturn\u001b[0m \u001b[0mself\u001b[0m\u001b[0;34m.\u001b[0m\u001b[0mto_jshtml\u001b[0m\u001b[0;34m(\u001b[0m\u001b[0;34m)\u001b[0m\u001b[0;34m\u001b[0m\u001b[0;34m\u001b[0m\u001b[0m\n\u001b[0m\u001b[1;32m   1405\u001b[0m \u001b[0;34m\u001b[0m\u001b[0m\n\u001b[1;32m   1406\u001b[0m \u001b[0;34m\u001b[0m\u001b[0m\n",
            "\u001b[0;32m/usr/local/lib/python3.6/dist-packages/matplotlib/animation.py\u001b[0m in \u001b[0;36mto_jshtml\u001b[0;34m(self, fps, embed_frames, default_mode)\u001b[0m\n\u001b[1;32m   1391\u001b[0m                                     \u001b[0membed_frames\u001b[0m\u001b[0;34m=\u001b[0m\u001b[0membed_frames\u001b[0m\u001b[0;34m,\u001b[0m\u001b[0;34m\u001b[0m\u001b[0;34m\u001b[0m\u001b[0m\n\u001b[1;32m   1392\u001b[0m                                     default_mode=default_mode)\n\u001b[0;32m-> 1393\u001b[0;31m                 \u001b[0mself\u001b[0m\u001b[0;34m.\u001b[0m\u001b[0msave\u001b[0m\u001b[0;34m(\u001b[0m\u001b[0mstr\u001b[0m\u001b[0;34m(\u001b[0m\u001b[0mpath\u001b[0m\u001b[0;34m)\u001b[0m\u001b[0;34m,\u001b[0m \u001b[0mwriter\u001b[0m\u001b[0;34m=\u001b[0m\u001b[0mwriter\u001b[0m\u001b[0;34m)\u001b[0m\u001b[0;34m\u001b[0m\u001b[0;34m\u001b[0m\u001b[0m\n\u001b[0m\u001b[1;32m   1394\u001b[0m                 \u001b[0mself\u001b[0m\u001b[0;34m.\u001b[0m\u001b[0m_html_representation\u001b[0m \u001b[0;34m=\u001b[0m \u001b[0mpath\u001b[0m\u001b[0;34m.\u001b[0m\u001b[0mread_text\u001b[0m\u001b[0;34m(\u001b[0m\u001b[0;34m)\u001b[0m\u001b[0;34m\u001b[0m\u001b[0;34m\u001b[0m\u001b[0m\n\u001b[1;32m   1395\u001b[0m \u001b[0;34m\u001b[0m\u001b[0m\n",
            "\u001b[0;32m/usr/local/lib/python3.6/dist-packages/matplotlib/animation.py\u001b[0m in \u001b[0;36msave\u001b[0;34m(self, filename, writer, fps, dpi, codec, bitrate, extra_args, metadata, extra_anim, savefig_kwargs)\u001b[0m\n\u001b[1;32m   1171\u001b[0m                     \u001b[0;32mfor\u001b[0m \u001b[0manim\u001b[0m\u001b[0;34m,\u001b[0m \u001b[0md\u001b[0m \u001b[0;32min\u001b[0m \u001b[0mzip\u001b[0m\u001b[0;34m(\u001b[0m\u001b[0mall_anim\u001b[0m\u001b[0;34m,\u001b[0m \u001b[0mdata\u001b[0m\u001b[0;34m)\u001b[0m\u001b[0;34m:\u001b[0m\u001b[0;34m\u001b[0m\u001b[0;34m\u001b[0m\u001b[0m\n\u001b[1;32m   1172\u001b[0m                         \u001b[0;31m# TODO: See if turning off blit is really necessary\u001b[0m\u001b[0;34m\u001b[0m\u001b[0;34m\u001b[0m\u001b[0;34m\u001b[0m\u001b[0m\n\u001b[0;32m-> 1173\u001b[0;31m                         \u001b[0manim\u001b[0m\u001b[0;34m.\u001b[0m\u001b[0m_draw_next_frame\u001b[0m\u001b[0;34m(\u001b[0m\u001b[0md\u001b[0m\u001b[0;34m,\u001b[0m \u001b[0mblit\u001b[0m\u001b[0;34m=\u001b[0m\u001b[0;32mFalse\u001b[0m\u001b[0;34m)\u001b[0m\u001b[0;34m\u001b[0m\u001b[0;34m\u001b[0m\u001b[0m\n\u001b[0m\u001b[1;32m   1174\u001b[0m                     \u001b[0mwriter\u001b[0m\u001b[0;34m.\u001b[0m\u001b[0mgrab_frame\u001b[0m\u001b[0;34m(\u001b[0m\u001b[0;34m**\u001b[0m\u001b[0msavefig_kwargs\u001b[0m\u001b[0;34m)\u001b[0m\u001b[0;34m\u001b[0m\u001b[0;34m\u001b[0m\u001b[0m\n\u001b[1;32m   1175\u001b[0m \u001b[0;34m\u001b[0m\u001b[0m\n",
            "\u001b[0;32m/usr/local/lib/python3.6/dist-packages/matplotlib/animation.py\u001b[0m in \u001b[0;36m_draw_next_frame\u001b[0;34m(self, framedata, blit)\u001b[0m\n\u001b[1;32m   1208\u001b[0m         \u001b[0;31m# post- draw, as well as the drawing of the frame itself.\u001b[0m\u001b[0;34m\u001b[0m\u001b[0;34m\u001b[0m\u001b[0;34m\u001b[0m\u001b[0m\n\u001b[1;32m   1209\u001b[0m         \u001b[0mself\u001b[0m\u001b[0;34m.\u001b[0m\u001b[0m_pre_draw\u001b[0m\u001b[0;34m(\u001b[0m\u001b[0mframedata\u001b[0m\u001b[0;34m,\u001b[0m \u001b[0mblit\u001b[0m\u001b[0;34m)\u001b[0m\u001b[0;34m\u001b[0m\u001b[0;34m\u001b[0m\u001b[0m\n\u001b[0;32m-> 1210\u001b[0;31m         \u001b[0mself\u001b[0m\u001b[0;34m.\u001b[0m\u001b[0m_draw_frame\u001b[0m\u001b[0;34m(\u001b[0m\u001b[0mframedata\u001b[0m\u001b[0;34m)\u001b[0m\u001b[0;34m\u001b[0m\u001b[0;34m\u001b[0m\u001b[0m\n\u001b[0m\u001b[1;32m   1211\u001b[0m         \u001b[0mself\u001b[0m\u001b[0;34m.\u001b[0m\u001b[0m_post_draw\u001b[0m\u001b[0;34m(\u001b[0m\u001b[0mframedata\u001b[0m\u001b[0;34m,\u001b[0m \u001b[0mblit\u001b[0m\u001b[0;34m)\u001b[0m\u001b[0;34m\u001b[0m\u001b[0;34m\u001b[0m\u001b[0m\n\u001b[1;32m   1212\u001b[0m \u001b[0;34m\u001b[0m\u001b[0m\n",
            "\u001b[0;32m/usr/local/lib/python3.6/dist-packages/matplotlib/animation.py\u001b[0m in \u001b[0;36m_draw_frame\u001b[0;34m(self, framedata)\u001b[0m\n\u001b[1;32m   1760\u001b[0m         \u001b[0;31m# Call the func with framedata and args. If blitting is desired,\u001b[0m\u001b[0;34m\u001b[0m\u001b[0;34m\u001b[0m\u001b[0;34m\u001b[0m\u001b[0m\n\u001b[1;32m   1761\u001b[0m         \u001b[0;31m# func needs to return a sequence of any artists that were modified.\u001b[0m\u001b[0;34m\u001b[0m\u001b[0;34m\u001b[0m\u001b[0;34m\u001b[0m\u001b[0m\n\u001b[0;32m-> 1762\u001b[0;31m         \u001b[0mself\u001b[0m\u001b[0;34m.\u001b[0m\u001b[0m_drawn_artists\u001b[0m \u001b[0;34m=\u001b[0m \u001b[0mself\u001b[0m\u001b[0;34m.\u001b[0m\u001b[0m_func\u001b[0m\u001b[0;34m(\u001b[0m\u001b[0mframedata\u001b[0m\u001b[0;34m,\u001b[0m \u001b[0;34m*\u001b[0m\u001b[0mself\u001b[0m\u001b[0;34m.\u001b[0m\u001b[0m_args\u001b[0m\u001b[0;34m)\u001b[0m\u001b[0;34m\u001b[0m\u001b[0;34m\u001b[0m\u001b[0m\n\u001b[0m\u001b[1;32m   1763\u001b[0m         \u001b[0;32mif\u001b[0m \u001b[0mself\u001b[0m\u001b[0;34m.\u001b[0m\u001b[0m_blit\u001b[0m\u001b[0;34m:\u001b[0m\u001b[0;34m\u001b[0m\u001b[0;34m\u001b[0m\u001b[0m\n\u001b[1;32m   1764\u001b[0m             \u001b[0;32mif\u001b[0m \u001b[0mself\u001b[0m\u001b[0;34m.\u001b[0m\u001b[0m_drawn_artists\u001b[0m \u001b[0;32mis\u001b[0m \u001b[0;32mNone\u001b[0m\u001b[0;34m:\u001b[0m\u001b[0;34m\u001b[0m\u001b[0;34m\u001b[0m\u001b[0m\n",
            "\u001b[0;32m<ipython-input-22-262a5e05e35a>\u001b[0m in \u001b[0;36manimate\u001b[0;34m(i)\u001b[0m\n\u001b[1;32m     83\u001b[0m     \u001b[0mtrain_output_5\u001b[0m \u001b[0;34m=\u001b[0m \u001b[0mcopynet5\u001b[0m\u001b[0;34m(\u001b[0m\u001b[0minput_data\u001b[0m\u001b[0;34m.\u001b[0m\u001b[0mcuda\u001b[0m\u001b[0;34m(\u001b[0m\u001b[0;34m)\u001b[0m\u001b[0;34m)\u001b[0m\u001b[0;34m.\u001b[0m\u001b[0mcpu\u001b[0m\u001b[0;34m(\u001b[0m\u001b[0;34m)\u001b[0m\u001b[0;34m.\u001b[0m\u001b[0mdetach\u001b[0m\u001b[0;34m(\u001b[0m\u001b[0;34m)\u001b[0m\u001b[0;34m.\u001b[0m\u001b[0mnumpy\u001b[0m\u001b[0;34m(\u001b[0m\u001b[0;34m)\u001b[0m\u001b[0;34m.\u001b[0m\u001b[0mflatten\u001b[0m\u001b[0;34m(\u001b[0m\u001b[0;34m)\u001b[0m\u001b[0;34m\u001b[0m\u001b[0;34m\u001b[0m\u001b[0m\n\u001b[1;32m     84\u001b[0m \u001b[0;34m\u001b[0m\u001b[0m\n\u001b[0;32m---> 85\u001b[0;31m   test_output_1, train_output_1 = kernel_leastsq_update(test_output_1, train_output_1, K_testvtrain,\n\u001b[0m\u001b[1;32m     86\u001b[0m                       K_trainvtrain, target_data.cpu().detach().numpy(), n_steps = 1, learning_rate = 1)\n\u001b[1;32m     87\u001b[0m   test_output_2, train_output_2 = kernel_leastsq_update(test_output_2, train_output_2, K_testvtrain,\n",
            "\u001b[0;31mUnboundLocalError\u001b[0m: local variable 'test_output_1' referenced before assignment"
          ]
        },
        {
          "output_type": "execute_result",
          "data": {
            "text/plain": [
              "<matplotlib.animation.FuncAnimation at 0x7f2a3612eeb8>"
            ]
          },
          "metadata": {
            "tags": []
          },
          "execution_count": 23
        }
      ]
    },
    {
      "metadata": {
        "id": "-17AiwOKxo7n",
        "colab_type": "text"
      },
      "cell_type": "markdown",
      "source": [
        "If you want to save the animation, call the next cell before the cell above"
      ]
    },
    {
      "metadata": {
        "id": "InvK9mX2xv49",
        "colab_type": "code",
        "colab": {
          "base_uri": "https://localhost:8080/",
          "height": 693
        },
        "outputId": "7b7b3e87-a56d-42ee-b808-91992d71d1cb"
      },
      "cell_type": "code",
      "source": [
        "anim.save('anim.mp4')\n",
        "files.download('anim.mp4')\n"
      ],
      "execution_count": 18,
      "outputs": [
        {
          "output_type": "error",
          "ename": "UnboundLocalError",
          "evalue": "ignored",
          "traceback": [
            "\u001b[0;31m---------------------------------------------------------------------------\u001b[0m",
            "\u001b[0;31mUnboundLocalError\u001b[0m                         Traceback (most recent call last)",
            "\u001b[0;32m<ipython-input-18-0a2a453871f3>\u001b[0m in \u001b[0;36m<module>\u001b[0;34m()\u001b[0m\n\u001b[0;32m----> 1\u001b[0;31m \u001b[0manim\u001b[0m\u001b[0;34m.\u001b[0m\u001b[0msave\u001b[0m\u001b[0;34m(\u001b[0m\u001b[0;34m'anim.mp4'\u001b[0m\u001b[0;34m)\u001b[0m\u001b[0;34m\u001b[0m\u001b[0;34m\u001b[0m\u001b[0m\n\u001b[0m\u001b[1;32m      2\u001b[0m \u001b[0mfiles\u001b[0m\u001b[0;34m.\u001b[0m\u001b[0mdownload\u001b[0m\u001b[0;34m(\u001b[0m\u001b[0;34m'anim.mp4'\u001b[0m\u001b[0;34m)\u001b[0m\u001b[0;34m\u001b[0m\u001b[0;34m\u001b[0m\u001b[0m\n",
            "\u001b[0;32m/usr/local/lib/python3.6/dist-packages/matplotlib/animation.py\u001b[0m in \u001b[0;36msave\u001b[0;34m(self, filename, writer, fps, dpi, codec, bitrate, extra_args, metadata, extra_anim, savefig_kwargs)\u001b[0m\n\u001b[1;32m   1171\u001b[0m                     \u001b[0;32mfor\u001b[0m \u001b[0manim\u001b[0m\u001b[0;34m,\u001b[0m \u001b[0md\u001b[0m \u001b[0;32min\u001b[0m \u001b[0mzip\u001b[0m\u001b[0;34m(\u001b[0m\u001b[0mall_anim\u001b[0m\u001b[0;34m,\u001b[0m \u001b[0mdata\u001b[0m\u001b[0;34m)\u001b[0m\u001b[0;34m:\u001b[0m\u001b[0;34m\u001b[0m\u001b[0;34m\u001b[0m\u001b[0m\n\u001b[1;32m   1172\u001b[0m                         \u001b[0;31m# TODO: See if turning off blit is really necessary\u001b[0m\u001b[0;34m\u001b[0m\u001b[0;34m\u001b[0m\u001b[0;34m\u001b[0m\u001b[0m\n\u001b[0;32m-> 1173\u001b[0;31m                         \u001b[0manim\u001b[0m\u001b[0;34m.\u001b[0m\u001b[0m_draw_next_frame\u001b[0m\u001b[0;34m(\u001b[0m\u001b[0md\u001b[0m\u001b[0;34m,\u001b[0m \u001b[0mblit\u001b[0m\u001b[0;34m=\u001b[0m\u001b[0;32mFalse\u001b[0m\u001b[0;34m)\u001b[0m\u001b[0;34m\u001b[0m\u001b[0;34m\u001b[0m\u001b[0m\n\u001b[0m\u001b[1;32m   1174\u001b[0m                     \u001b[0mwriter\u001b[0m\u001b[0;34m.\u001b[0m\u001b[0mgrab_frame\u001b[0m\u001b[0;34m(\u001b[0m\u001b[0;34m**\u001b[0m\u001b[0msavefig_kwargs\u001b[0m\u001b[0;34m)\u001b[0m\u001b[0;34m\u001b[0m\u001b[0;34m\u001b[0m\u001b[0m\n\u001b[1;32m   1175\u001b[0m \u001b[0;34m\u001b[0m\u001b[0m\n",
            "\u001b[0;32m/usr/local/lib/python3.6/dist-packages/matplotlib/animation.py\u001b[0m in \u001b[0;36m_draw_next_frame\u001b[0;34m(self, framedata, blit)\u001b[0m\n\u001b[1;32m   1208\u001b[0m         \u001b[0;31m# post- draw, as well as the drawing of the frame itself.\u001b[0m\u001b[0;34m\u001b[0m\u001b[0;34m\u001b[0m\u001b[0;34m\u001b[0m\u001b[0m\n\u001b[1;32m   1209\u001b[0m         \u001b[0mself\u001b[0m\u001b[0;34m.\u001b[0m\u001b[0m_pre_draw\u001b[0m\u001b[0;34m(\u001b[0m\u001b[0mframedata\u001b[0m\u001b[0;34m,\u001b[0m \u001b[0mblit\u001b[0m\u001b[0;34m)\u001b[0m\u001b[0;34m\u001b[0m\u001b[0;34m\u001b[0m\u001b[0m\n\u001b[0;32m-> 1210\u001b[0;31m         \u001b[0mself\u001b[0m\u001b[0;34m.\u001b[0m\u001b[0m_draw_frame\u001b[0m\u001b[0;34m(\u001b[0m\u001b[0mframedata\u001b[0m\u001b[0;34m)\u001b[0m\u001b[0;34m\u001b[0m\u001b[0;34m\u001b[0m\u001b[0m\n\u001b[0m\u001b[1;32m   1211\u001b[0m         \u001b[0mself\u001b[0m\u001b[0;34m.\u001b[0m\u001b[0m_post_draw\u001b[0m\u001b[0;34m(\u001b[0m\u001b[0mframedata\u001b[0m\u001b[0;34m,\u001b[0m \u001b[0mblit\u001b[0m\u001b[0;34m)\u001b[0m\u001b[0;34m\u001b[0m\u001b[0;34m\u001b[0m\u001b[0m\n\u001b[1;32m   1212\u001b[0m \u001b[0;34m\u001b[0m\u001b[0m\n",
            "\u001b[0;32m/usr/local/lib/python3.6/dist-packages/matplotlib/animation.py\u001b[0m in \u001b[0;36m_draw_frame\u001b[0;34m(self, framedata)\u001b[0m\n\u001b[1;32m   1760\u001b[0m         \u001b[0;31m# Call the func with framedata and args. If blitting is desired,\u001b[0m\u001b[0;34m\u001b[0m\u001b[0;34m\u001b[0m\u001b[0;34m\u001b[0m\u001b[0m\n\u001b[1;32m   1761\u001b[0m         \u001b[0;31m# func needs to return a sequence of any artists that were modified.\u001b[0m\u001b[0;34m\u001b[0m\u001b[0;34m\u001b[0m\u001b[0;34m\u001b[0m\u001b[0m\n\u001b[0;32m-> 1762\u001b[0;31m         \u001b[0mself\u001b[0m\u001b[0;34m.\u001b[0m\u001b[0m_drawn_artists\u001b[0m \u001b[0;34m=\u001b[0m \u001b[0mself\u001b[0m\u001b[0;34m.\u001b[0m\u001b[0m_func\u001b[0m\u001b[0;34m(\u001b[0m\u001b[0mframedata\u001b[0m\u001b[0;34m,\u001b[0m \u001b[0;34m*\u001b[0m\u001b[0mself\u001b[0m\u001b[0;34m.\u001b[0m\u001b[0m_args\u001b[0m\u001b[0;34m)\u001b[0m\u001b[0;34m\u001b[0m\u001b[0;34m\u001b[0m\u001b[0m\n\u001b[0m\u001b[1;32m   1763\u001b[0m         \u001b[0;32mif\u001b[0m \u001b[0mself\u001b[0m\u001b[0;34m.\u001b[0m\u001b[0m_blit\u001b[0m\u001b[0;34m:\u001b[0m\u001b[0;34m\u001b[0m\u001b[0;34m\u001b[0m\u001b[0m\n\u001b[1;32m   1764\u001b[0m             \u001b[0;32mif\u001b[0m \u001b[0mself\u001b[0m\u001b[0;34m.\u001b[0m\u001b[0m_drawn_artists\u001b[0m \u001b[0;32mis\u001b[0m \u001b[0;32mNone\u001b[0m\u001b[0;34m:\u001b[0m\u001b[0;34m\u001b[0m\u001b[0;34m\u001b[0m\u001b[0m\n",
            "\u001b[0;32m<ipython-input-16-2c8cd4f51e75>\u001b[0m in \u001b[0;36manimate\u001b[0;34m(i)\u001b[0m\n\u001b[1;32m     59\u001b[0m     \u001b[0mj\u001b[0m \u001b[0;34m=\u001b[0m \u001b[0mi\u001b[0m \u001b[0;34m-\u001b[0m \u001b[0;36m2\u001b[0m\u001b[0;34m\u001b[0m\u001b[0;34m\u001b[0m\u001b[0m\n\u001b[1;32m     60\u001b[0m \u001b[0;34m\u001b[0m\u001b[0m\n\u001b[0;32m---> 61\u001b[0;31m   test_output_1, train_output_1 = kernel_leastsq_update(test_output_1, train_output_1, K_testvtrain,\n\u001b[0m\u001b[1;32m     62\u001b[0m                       K_trainvtrain, target_data.cpu().detach().numpy(), n_steps = 1, learning_rate = 1)\n\u001b[1;32m     63\u001b[0m   test_output_2, train_output_2 = kernel_leastsq_update(test_output_2, train_output_2, K_testvtrain,\n",
            "\u001b[0;31mUnboundLocalError\u001b[0m: local variable 'test_output_1' referenced before assignment"
          ]
        }
      ]
    }
  ]
}