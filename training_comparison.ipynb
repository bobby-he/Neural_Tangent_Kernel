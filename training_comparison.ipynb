{
  "nbformat": 4,
  "nbformat_minor": 0,
  "metadata": {
    "colab": {
      "name": "training_comparison.ipynb",
      "version": "0.3.2",
      "provenance": [],
      "collapsed_sections": [],
      "include_colab_link": true
    },
    "kernelspec": {
      "name": "python3",
      "display_name": "Python 3"
    },
    "accelerator": "GPU"
  },
  "cells": [
    {
      "cell_type": "markdown",
      "metadata": {
        "id": "view-in-github",
        "colab_type": "text"
      },
      "source": [
        "<a href=\"https://colab.research.google.com/github/bobby-he/Neural_Tangent_Kernel/blob/master/training_comparison.ipynb\" target=\"_parent\"><img src=\"https://colab.research.google.com/assets/colab-badge.svg\" alt=\"Open In Colab\"/></a>"
      ]
    },
    {
      "metadata": {
        "id": "z3lVsGbsVi2j",
        "colab_type": "code",
        "outputId": "e4cb3fb1-4e38-4022-d2bb-13cae64dec47",
        "colab": {
          "base_uri": "https://localhost:8080/",
          "height": 123
        }
      },
      "cell_type": "code",
      "source": [
        "!git clone https://github.com/bobby-he/Neural_Tangent_Kernel.git"
      ],
      "execution_count": 1,
      "outputs": [
        {
          "output_type": "stream",
          "text": [
            "Cloning into 'Neural_Tangent_Kernel'...\n",
            "remote: Enumerating objects: 73, done.\u001b[K\n",
            "remote: Counting objects: 100% (73/73), done.\u001b[K\n",
            "remote: Compressing objects: 100% (53/53), done.\u001b[K\n",
            "remote: Total 73 (delta 22), reused 28 (delta 8), pack-reused 0\u001b[K\n",
            "Unpacking objects: 100% (73/73), done.\n"
          ],
          "name": "stdout"
        }
      ]
    },
    {
      "metadata": {
        "id": "eP_SEJZFVtiO",
        "colab_type": "code",
        "colab": {}
      },
      "cell_type": "code",
      "source": [
        "import numpy as np\n",
        "import matplotlib.pyplot as plt\n",
        "\n",
        "import torch\n",
        "import torch.nn as nn\n",
        "import torch.nn.functional as F\n",
        "import torch.optim as optim"
      ],
      "execution_count": 0,
      "outputs": []
    },
    {
      "metadata": {
        "id": "7i2HbFm6VzxU",
        "colab_type": "code",
        "colab": {}
      },
      "cell_type": "code",
      "source": [
        "import seaborn as sns\n",
        "sns.set()"
      ],
      "execution_count": 0,
      "outputs": []
    },
    {
      "metadata": {
        "id": "jqr3EQhjWEK8",
        "colab_type": "code",
        "colab": {}
      },
      "cell_type": "code",
      "source": [
        "from collections import OrderedDict"
      ],
      "execution_count": 0,
      "outputs": []
    },
    {
      "metadata": {
        "id": "EaQjWThJWJ5U",
        "colab_type": "code",
        "colab": {}
      },
      "cell_type": "code",
      "source": [
        "from Neural_Tangent_Kernel.src.NTK_net import LinearNeuralTangentKernel, FourLayersNet, train_net, circle_transform, variance_est"
      ],
      "execution_count": 0,
      "outputs": []
    },
    {
      "metadata": {
        "id": "RY7yF5IjXAju",
        "colab_type": "code",
        "colab": {}
      },
      "cell_type": "code",
      "source": [
        "import copy\n",
        "from google.colab import files"
      ],
      "execution_count": 0,
      "outputs": []
    },
    {
      "metadata": {
        "id": "rVE9SfeTWMXc",
        "colab_type": "code",
        "colab": {}
      },
      "cell_type": "code",
      "source": [
        "use_cuda = True if torch.cuda.is_available() else False"
      ],
      "execution_count": 0,
      "outputs": []
    },
    {
      "metadata": {
        "id": "tAZpJ_i8Xb0Q",
        "colab_type": "text"
      },
      "cell_type": "markdown",
      "source": [
        "### define net and data"
      ]
    },
    {
      "metadata": {
        "id": "GxYgsHkWcx5T",
        "colab_type": "code",
        "colab": {}
      },
      "cell_type": "code",
      "source": [
        "from matplotlib import animation, rc\n",
        "from IPython.display import HTML\n",
        "plt.rcParams['axes.prop_cycle'] = plt.cycler(color=plt.cm.Set2.colors)\n",
        "\n",
        "n_pts = 100\n",
        "# animate over some set of x, y\n",
        "gamma_vec = torch.tensor(np.linspace(-np.pi, np.pi, n_pts))\n",
        "circle_test = circle_transform(gamma_vec).cuda()\n",
        "gamma_data = torch.tensor(np.array([-2.2, -1, 1, 2.2]))\n",
        "target_data = torch.tensor(np.array([-0.4, -0.2, 0.3, 0.3])).float()\n",
        "input_data = circle_transform(gamma_data)\n",
        "# note mean_vec has length 100 so better to set n_pts=100\n",
        "mean_vec = np.load('Neural_Tangent_Kernel/data/mean_vec.npy').flatten()"
      ],
      "execution_count": 0,
      "outputs": []
    },
    {
      "metadata": {
        "id": "mosjxHe0c1qj",
        "colab_type": "code",
        "colab": {}
      },
      "cell_type": "code",
      "source": [
        "net1 = FourLayersNet(n_wid=1000, n_out=1).cuda()\n",
        "net2 = FourLayersNet(n_wid=1000, n_out=1).cuda()\n",
        "net3 = FourLayersNet(n_wid=1000, n_out=1).cuda()\n",
        "net4 = FourLayersNet(n_wid=1000, n_out=1).cuda()\n",
        "net5 = FourLayersNet(n_wid=1000, n_out=1).cuda()\n",
        "\n",
        "if use_cuda:\n",
        "  input_data = input_data.cuda()\n",
        "  target_data = target_data.cuda()\n",
        "# First set up the figure, the axes, and the plot element\n",
        "fig, ax = plt.subplots()\n",
        "plt.close()\n",
        "ax.set_xlim(( -np.pi, np.pi))\n",
        "ax.set_ylim((-0.5, 0.5))\n",
        "ax.set_xlabel('$\\gamma$')\n",
        "ax.set_ylabel('$f_{ \\\\theta}(sin(y),cos(y))$')\n",
        "\n",
        "line0, = ax.plot([], [], lw=2, color = 'darkmagenta')\n",
        "line1, = ax.plot([], [], lw=1, linestyle = '--', alpha = 0.9)\n",
        "line2, = ax.plot([], [], lw=1, linestyle = '--', alpha = 0.9)\n",
        "line3, = ax.plot([], [], lw=1, linestyle = '--', alpha = 0.9)\n",
        "line4, = ax.plot([], [], lw=1, linestyle = '--', alpha = 0.9)\n",
        "line5, = ax.plot([], [], lw=1, linestyle = '--', alpha = 0.9)\n",
        "# initialization function: plot the background of each frame\n",
        "def init():   \n",
        "  line0.set_data(gamma_vec.numpy(), mean_vec)\n",
        "  return (line0,)\n",
        "  \n",
        "# animation function: this is called sequentially\n",
        "def animate(i):\n",
        "  j = 0\n",
        "  if i>2:\n",
        "    train_net(net1, 1, input_data, target_data)\n",
        "    train_net(net2, 1, input_data, target_data)\n",
        "    train_net(net3, 1, input_data, target_data)\n",
        "    train_net(net4, 1, input_data, target_data)\n",
        "    train_net(net5, 1, input_data, target_data)\n",
        "    j = i - 2\n",
        "  \n",
        "  line1.set_data(gamma_vec.numpy(), net1(circle_test).cpu().detach().numpy())\n",
        "  line2.set_data(gamma_vec.numpy(), net2(circle_test).cpu().detach().numpy())\n",
        "  line3.set_data(gamma_vec.numpy(), net3(circle_test).cpu().detach().numpy())\n",
        "  line4.set_data(gamma_vec.numpy(), net4(circle_test).cpu().detach().numpy())\n",
        "  line5.set_data(gamma_vec.numpy(), net5(circle_test).cpu().detach().numpy())  \n",
        "  ax.set_title('Epoch {}'.format(j))\n",
        "  return (line1, line2, line3, line4, line5, )\n",
        "\n",
        "anim = animation.FuncAnimation(fig, animate, init_func=init, frames=52, interval=150, blit=True)\n",
        "rc('animation', html='jshtml')"
      ],
      "execution_count": 0,
      "outputs": []
    },
    {
      "metadata": {
        "id": "MXtg093r0e-C",
        "colab_type": "text"
      },
      "cell_type": "markdown",
      "source": [
        "If you want to see the animation, call the next cell"
      ]
    },
    {
      "metadata": {
        "id": "HI79l-Wa0d7i",
        "colab_type": "code",
        "colab": {}
      },
      "cell_type": "code",
      "source": [
        "anim"
      ],
      "execution_count": 0,
      "outputs": []
    },
    {
      "metadata": {
        "id": "-17AiwOKxo7n",
        "colab_type": "text"
      },
      "cell_type": "markdown",
      "source": [
        "If you want to save the animation, call the next cell before the cell above"
      ]
    },
    {
      "metadata": {
        "id": "InvK9mX2xv49",
        "colab_type": "code",
        "colab": {}
      },
      "cell_type": "code",
      "source": [
        "anim.save('anim.mp4')\n",
        "files.download('anim.mp4')\n"
      ],
      "execution_count": 0,
      "outputs": []
    }
  ]
}